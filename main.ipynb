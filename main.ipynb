{
 "cells": [
  {
   "cell_type": "code",
   "execution_count": 1,
   "metadata": {},
   "outputs": [],
   "source": [
    "import pandas as pd\n",
    "import numpy as np\n",
    "import matplotlib.pyplot as plt\n",
    "from sklearn.cluster import KMeans\n",
    "from sklearn.preprocessing import StandardScaler\n",
    "import os"
   ]
  },
  {
   "cell_type": "markdown",
   "metadata": {},
   "source": [
    "### Download data"
   ]
  },
  {
   "cell_type": "code",
   "execution_count": 2,
   "metadata": {
    "pycharm": {
     "name": "#%%\n"
    }
   },
   "outputs": [],
   "source": [
    "# Get the current working directory\n",
    "directory = os.getcwd()\n",
    "\n",
    "# Load data\n",
    "directory_data = directory + '\\\\Data\\\\sfo 2018_data file_final_Weighted.xlsx'\n",
    "data_2018 = pd.read_excel(directory_data, engine='openpyxl', sheet_name='DATA')\n",
    "code_list_2018 = pd.read_excel(directory_data, engine='openpyxl', sheet_name='Code List')"
   ]
  },
  {
   "cell_type": "markdown",
   "metadata": {},
   "source": [
    "### Get to know data"
   ]
  },
  {
   "cell_type": "code",
   "execution_count": 3,
   "metadata": {
    "pycharm": {
     "name": "#%%\n"
    }
   },
   "outputs": [
    {
     "data": {
      "text/plain": "   RESPNUM  CCGID RUNID  INTDATE  DAY  GATE BAREA  STRATA  PEAK  METH  ...  \\\n0     1842   1680   552       21    2   102     G       3     3     1  ...   \n1     1844   1681   552       21    2   102     G       3     3     1  ...   \n2     1840   1678   552       21    2   102     G       3     3     1  ...   \n3     1837   1676   552       21    2   102     G       3     3     1  ...   \n4     1833   1674   552       21    2   102     G       3     3     1  ...   \n\n   HOME Q19Clear Q20Age  Q21Gender  Q22Income  Q23FLY  Q24SJC  Q24OAK LANG  \\\n0    15        2      6          2          0       0       2       2    1   \n1    15        2      4          1          2       1       2       2    1   \n2    15        1      5          1          5       2       2       2    1   \n3    15        2      2          2          3       3       2       1    1   \n4    15        2      2          2          2       2       2       2    1   \n\n     WEIGHT  \n0  0.670484  \n1  0.670484  \n2  0.670484  \n3  0.670484  \n4  0.670484  \n\n[5 rows x 100 columns]",
      "text/html": "<div>\n<style scoped>\n    .dataframe tbody tr th:only-of-type {\n        vertical-align: middle;\n    }\n\n    .dataframe tbody tr th {\n        vertical-align: top;\n    }\n\n    .dataframe thead th {\n        text-align: right;\n    }\n</style>\n<table border=\"1\" class=\"dataframe\">\n  <thead>\n    <tr style=\"text-align: right;\">\n      <th></th>\n      <th>RESPNUM</th>\n      <th>CCGID</th>\n      <th>RUNID</th>\n      <th>INTDATE</th>\n      <th>DAY</th>\n      <th>GATE</th>\n      <th>BAREA</th>\n      <th>STRATA</th>\n      <th>PEAK</th>\n      <th>METH</th>\n      <th>...</th>\n      <th>HOME</th>\n      <th>Q19Clear</th>\n      <th>Q20Age</th>\n      <th>Q21Gender</th>\n      <th>Q22Income</th>\n      <th>Q23FLY</th>\n      <th>Q24SJC</th>\n      <th>Q24OAK</th>\n      <th>LANG</th>\n      <th>WEIGHT</th>\n    </tr>\n  </thead>\n  <tbody>\n    <tr>\n      <th>0</th>\n      <td>1842</td>\n      <td>1680</td>\n      <td>552</td>\n      <td>21</td>\n      <td>2</td>\n      <td>102</td>\n      <td>G</td>\n      <td>3</td>\n      <td>3</td>\n      <td>1</td>\n      <td>...</td>\n      <td>15</td>\n      <td>2</td>\n      <td>6</td>\n      <td>2</td>\n      <td>0</td>\n      <td>0</td>\n      <td>2</td>\n      <td>2</td>\n      <td>1</td>\n      <td>0.670484</td>\n    </tr>\n    <tr>\n      <th>1</th>\n      <td>1844</td>\n      <td>1681</td>\n      <td>552</td>\n      <td>21</td>\n      <td>2</td>\n      <td>102</td>\n      <td>G</td>\n      <td>3</td>\n      <td>3</td>\n      <td>1</td>\n      <td>...</td>\n      <td>15</td>\n      <td>2</td>\n      <td>4</td>\n      <td>1</td>\n      <td>2</td>\n      <td>1</td>\n      <td>2</td>\n      <td>2</td>\n      <td>1</td>\n      <td>0.670484</td>\n    </tr>\n    <tr>\n      <th>2</th>\n      <td>1840</td>\n      <td>1678</td>\n      <td>552</td>\n      <td>21</td>\n      <td>2</td>\n      <td>102</td>\n      <td>G</td>\n      <td>3</td>\n      <td>3</td>\n      <td>1</td>\n      <td>...</td>\n      <td>15</td>\n      <td>1</td>\n      <td>5</td>\n      <td>1</td>\n      <td>5</td>\n      <td>2</td>\n      <td>2</td>\n      <td>2</td>\n      <td>1</td>\n      <td>0.670484</td>\n    </tr>\n    <tr>\n      <th>3</th>\n      <td>1837</td>\n      <td>1676</td>\n      <td>552</td>\n      <td>21</td>\n      <td>2</td>\n      <td>102</td>\n      <td>G</td>\n      <td>3</td>\n      <td>3</td>\n      <td>1</td>\n      <td>...</td>\n      <td>15</td>\n      <td>2</td>\n      <td>2</td>\n      <td>2</td>\n      <td>3</td>\n      <td>3</td>\n      <td>2</td>\n      <td>1</td>\n      <td>1</td>\n      <td>0.670484</td>\n    </tr>\n    <tr>\n      <th>4</th>\n      <td>1833</td>\n      <td>1674</td>\n      <td>552</td>\n      <td>21</td>\n      <td>2</td>\n      <td>102</td>\n      <td>G</td>\n      <td>3</td>\n      <td>3</td>\n      <td>1</td>\n      <td>...</td>\n      <td>15</td>\n      <td>2</td>\n      <td>2</td>\n      <td>2</td>\n      <td>2</td>\n      <td>2</td>\n      <td>2</td>\n      <td>2</td>\n      <td>1</td>\n      <td>0.670484</td>\n    </tr>\n  </tbody>\n</table>\n<p>5 rows × 100 columns</p>\n</div>"
     },
     "execution_count": 3,
     "metadata": {},
     "output_type": "execute_result"
    }
   ],
   "source": [
    "data_2018.head()"
   ]
  },
  {
   "cell_type": "code",
   "execution_count": 4,
   "metadata": {
    "pycharm": {
     "name": "#%%\n"
    }
   },
   "outputs": [
    {
     "data": {
      "text/plain": "           RESPNUM        CCGID      INTDATE          DAY         GATE  \\\ncount  2809.000000  2809.000000  2809.000000  2809.000000  2809.000000   \nmean   1821.937700  1419.065504    14.079032     4.127447    50.647205   \nstd     942.654669   861.370970     8.193408     1.692994    33.241023   \nmin       1.000000     1.000000     1.000000     1.000000     1.000000   \n25%    1052.000000   707.000000     8.000000     3.000000    12.000000   \n50%    1869.000000  1409.000000    15.000000     4.000000    52.000000   \n75%    2594.000000  2116.000000    20.000000     5.000000    81.000000   \nmax    9004.000000  9004.000000    31.000000     7.000000   102.000000   \n\n            STRATA         PEAK         METH          SAQ       FLIGHT  ...  \\\ncount  2809.000000  2809.000000  2809.000000  2809.000000  2809.000000  ...   \nmean      2.148095     2.161979     1.012460     1.880384  1414.961552  ...   \nstd       0.780914     0.750427     0.125978     0.324569  1714.986966  ...   \nmin       1.000000     1.000000     1.000000     1.000000     7.000000  ...   \n25%       2.000000     2.000000     1.000000     2.000000   394.000000  ...   \n50%       2.000000     2.000000     1.000000     2.000000   857.000000  ...   \n75%       3.000000     3.000000     1.000000     2.000000  1747.000000  ...   \nmax       3.000000     3.000000     3.000000     2.000000  8839.000000  ...   \n\n              HOME     Q19Clear       Q20Age    Q21Gender    Q22Income  \\\ncount  2809.000000  2809.000000  2809.000000  2809.000000  2809.000000   \nmean     18.608046     1.657529     4.045568     1.448558     2.046992   \nstd      26.604692     0.730039     1.864170     0.611737     1.493790   \nmin       1.000000     0.000000     0.000000     0.000000     0.000000   \n25%       7.000000     2.000000     3.000000     1.000000     1.000000   \n50%      10.000000     2.000000     4.000000     2.000000     2.000000   \n75%      14.000000     2.000000     6.000000     2.000000     3.000000   \nmax      99.000000     2.000000     7.000000     3.000000     5.000000   \n\n            Q23FLY       Q24SJC       Q24OAK         LANG       WEIGHT  \ncount  2809.000000  2809.000000  2809.000000  2809.000000  2809.000000  \nmean      1.817017     1.595586     1.541118     1.103596     0.999999  \nstd       0.700515     0.678995     0.697855     0.442109     0.490976  \nmin       0.000000     0.000000     0.000000     1.000000     0.208038  \n25%       2.000000     1.000000     1.000000     1.000000     0.670484  \n50%       2.000000     2.000000     2.000000     1.000000     1.061139  \n75%       2.000000     2.000000     2.000000     1.000000     1.486925  \nmax       3.000000     3.000000     3.000000     4.000000     3.887528  \n\n[8 rows x 86 columns]",
      "text/html": "<div>\n<style scoped>\n    .dataframe tbody tr th:only-of-type {\n        vertical-align: middle;\n    }\n\n    .dataframe tbody tr th {\n        vertical-align: top;\n    }\n\n    .dataframe thead th {\n        text-align: right;\n    }\n</style>\n<table border=\"1\" class=\"dataframe\">\n  <thead>\n    <tr style=\"text-align: right;\">\n      <th></th>\n      <th>RESPNUM</th>\n      <th>CCGID</th>\n      <th>INTDATE</th>\n      <th>DAY</th>\n      <th>GATE</th>\n      <th>STRATA</th>\n      <th>PEAK</th>\n      <th>METH</th>\n      <th>SAQ</th>\n      <th>FLIGHT</th>\n      <th>...</th>\n      <th>HOME</th>\n      <th>Q19Clear</th>\n      <th>Q20Age</th>\n      <th>Q21Gender</th>\n      <th>Q22Income</th>\n      <th>Q23FLY</th>\n      <th>Q24SJC</th>\n      <th>Q24OAK</th>\n      <th>LANG</th>\n      <th>WEIGHT</th>\n    </tr>\n  </thead>\n  <tbody>\n    <tr>\n      <th>count</th>\n      <td>2809.000000</td>\n      <td>2809.000000</td>\n      <td>2809.000000</td>\n      <td>2809.000000</td>\n      <td>2809.000000</td>\n      <td>2809.000000</td>\n      <td>2809.000000</td>\n      <td>2809.000000</td>\n      <td>2809.000000</td>\n      <td>2809.000000</td>\n      <td>...</td>\n      <td>2809.000000</td>\n      <td>2809.000000</td>\n      <td>2809.000000</td>\n      <td>2809.000000</td>\n      <td>2809.000000</td>\n      <td>2809.000000</td>\n      <td>2809.000000</td>\n      <td>2809.000000</td>\n      <td>2809.000000</td>\n      <td>2809.000000</td>\n    </tr>\n    <tr>\n      <th>mean</th>\n      <td>1821.937700</td>\n      <td>1419.065504</td>\n      <td>14.079032</td>\n      <td>4.127447</td>\n      <td>50.647205</td>\n      <td>2.148095</td>\n      <td>2.161979</td>\n      <td>1.012460</td>\n      <td>1.880384</td>\n      <td>1414.961552</td>\n      <td>...</td>\n      <td>18.608046</td>\n      <td>1.657529</td>\n      <td>4.045568</td>\n      <td>1.448558</td>\n      <td>2.046992</td>\n      <td>1.817017</td>\n      <td>1.595586</td>\n      <td>1.541118</td>\n      <td>1.103596</td>\n      <td>0.999999</td>\n    </tr>\n    <tr>\n      <th>std</th>\n      <td>942.654669</td>\n      <td>861.370970</td>\n      <td>8.193408</td>\n      <td>1.692994</td>\n      <td>33.241023</td>\n      <td>0.780914</td>\n      <td>0.750427</td>\n      <td>0.125978</td>\n      <td>0.324569</td>\n      <td>1714.986966</td>\n      <td>...</td>\n      <td>26.604692</td>\n      <td>0.730039</td>\n      <td>1.864170</td>\n      <td>0.611737</td>\n      <td>1.493790</td>\n      <td>0.700515</td>\n      <td>0.678995</td>\n      <td>0.697855</td>\n      <td>0.442109</td>\n      <td>0.490976</td>\n    </tr>\n    <tr>\n      <th>min</th>\n      <td>1.000000</td>\n      <td>1.000000</td>\n      <td>1.000000</td>\n      <td>1.000000</td>\n      <td>1.000000</td>\n      <td>1.000000</td>\n      <td>1.000000</td>\n      <td>1.000000</td>\n      <td>1.000000</td>\n      <td>7.000000</td>\n      <td>...</td>\n      <td>1.000000</td>\n      <td>0.000000</td>\n      <td>0.000000</td>\n      <td>0.000000</td>\n      <td>0.000000</td>\n      <td>0.000000</td>\n      <td>0.000000</td>\n      <td>0.000000</td>\n      <td>1.000000</td>\n      <td>0.208038</td>\n    </tr>\n    <tr>\n      <th>25%</th>\n      <td>1052.000000</td>\n      <td>707.000000</td>\n      <td>8.000000</td>\n      <td>3.000000</td>\n      <td>12.000000</td>\n      <td>2.000000</td>\n      <td>2.000000</td>\n      <td>1.000000</td>\n      <td>2.000000</td>\n      <td>394.000000</td>\n      <td>...</td>\n      <td>7.000000</td>\n      <td>2.000000</td>\n      <td>3.000000</td>\n      <td>1.000000</td>\n      <td>1.000000</td>\n      <td>2.000000</td>\n      <td>1.000000</td>\n      <td>1.000000</td>\n      <td>1.000000</td>\n      <td>0.670484</td>\n    </tr>\n    <tr>\n      <th>50%</th>\n      <td>1869.000000</td>\n      <td>1409.000000</td>\n      <td>15.000000</td>\n      <td>4.000000</td>\n      <td>52.000000</td>\n      <td>2.000000</td>\n      <td>2.000000</td>\n      <td>1.000000</td>\n      <td>2.000000</td>\n      <td>857.000000</td>\n      <td>...</td>\n      <td>10.000000</td>\n      <td>2.000000</td>\n      <td>4.000000</td>\n      <td>2.000000</td>\n      <td>2.000000</td>\n      <td>2.000000</td>\n      <td>2.000000</td>\n      <td>2.000000</td>\n      <td>1.000000</td>\n      <td>1.061139</td>\n    </tr>\n    <tr>\n      <th>75%</th>\n      <td>2594.000000</td>\n      <td>2116.000000</td>\n      <td>20.000000</td>\n      <td>5.000000</td>\n      <td>81.000000</td>\n      <td>3.000000</td>\n      <td>3.000000</td>\n      <td>1.000000</td>\n      <td>2.000000</td>\n      <td>1747.000000</td>\n      <td>...</td>\n      <td>14.000000</td>\n      <td>2.000000</td>\n      <td>6.000000</td>\n      <td>2.000000</td>\n      <td>3.000000</td>\n      <td>2.000000</td>\n      <td>2.000000</td>\n      <td>2.000000</td>\n      <td>1.000000</td>\n      <td>1.486925</td>\n    </tr>\n    <tr>\n      <th>max</th>\n      <td>9004.000000</td>\n      <td>9004.000000</td>\n      <td>31.000000</td>\n      <td>7.000000</td>\n      <td>102.000000</td>\n      <td>3.000000</td>\n      <td>3.000000</td>\n      <td>3.000000</td>\n      <td>2.000000</td>\n      <td>8839.000000</td>\n      <td>...</td>\n      <td>99.000000</td>\n      <td>2.000000</td>\n      <td>7.000000</td>\n      <td>3.000000</td>\n      <td>5.000000</td>\n      <td>3.000000</td>\n      <td>3.000000</td>\n      <td>3.000000</td>\n      <td>4.000000</td>\n      <td>3.887528</td>\n    </tr>\n  </tbody>\n</table>\n<p>8 rows × 86 columns</p>\n</div>"
     },
     "execution_count": 4,
     "metadata": {},
     "output_type": "execute_result"
    }
   ],
   "source": [
    "data_2018.describe()"
   ]
  },
  {
   "cell_type": "code",
   "execution_count": 60,
   "outputs": [
    {
     "data": {
      "text/plain": "Index(['RESPNUM', 'CCGID', 'RUNID', 'INTDATE', 'DAY', 'GATE', 'BAREA',\n       'STRATA', 'PEAK', 'METH', 'SAQ', 'AIRLINE', 'DESTINATION', 'FLIGHT',\n       'AIRLINE_CODE', 'DEST_CODE', 'DESTGEO', 'DESTMARK', 'ARRTIME',\n       'DEPTIME', 'HOWLONG', 'Q2PURP1', 'Q2PURP2', 'Q2PURP3', 'Q3GETTO1',\n       'Q3GETTO2', 'Q3GETTO3', 'Q3PARK', 'Q4BAGS', 'Q4STORE', 'Q4FOOD',\n       'Q4WIFI', 'Q5TIMESFLOWN', 'Q5FIRSTTIME', 'Q6LONGUSE', 'Q7ART', 'Q7FOOD',\n       'Q7STORE', 'Q7SIGN', 'Q7WALKWAY', 'Q7SCREENS', 'Q7INFODOWN', 'Q7INFOUP',\n       'Q7WIFI', 'Q7ROADS', 'Q7PARK', 'Q7AIRTRAIN', 'Q7LTPARKING', 'Q7RENTAL',\n       'Q7ALL', 'Q8-1', 'Q8-2', 'Q8-3', 'Q8-4', 'Q8-5', 'Q8-6', 'Q9Boarding',\n       'Q9AirTrain', 'Q9Rental', 'Q9Food', 'Q9Restroom', 'Q9All', 'Q9-1',\n       'Q9-2', 'Q9-3', 'Q10Safe', 'Q10-1', 'Q10-2', 'Q10-3', 'Q11TSAPRE',\n       'Q12PRECHECKRATE', 'Q12-1', 'Q12-2', 'Q12-3', 'Q13COUNTY', 'Q13GETRATE',\n       'Q14FIND ', 'Q14PASSTHRU', 'Q15PROBLEM', 'Q15A', 'Q15-1', 'Q15-2',\n       'Q15-3', 'NETPRO  ', 'Q17LIVE', 'Q18CITY', 'Q18COUNTY', 'Q18STATE',\n       'Q18ZIP', 'Q18COUNTRY', 'HOME', 'Q19Clear', 'Q20Age', 'Q21Gender',\n       'Q22Income', 'Q23FLY', 'Q24SJC', 'Q24OAK', 'LANG', 'WEIGHT'],\n      dtype='object')"
     },
     "execution_count": 60,
     "metadata": {},
     "output_type": "execute_result"
    }
   ],
   "source": [
    "data_2018.columns"
   ],
   "metadata": {
    "collapsed": false,
    "pycharm": {
     "name": "#%%\n"
    }
   }
  },
  {
   "cell_type": "code",
   "execution_count": 74,
   "metadata": {
    "pycharm": {
     "name": "#%%\n"
    }
   },
   "outputs": [
    {
     "data": {
      "text/plain": "RESPNUM    0\nCCGID      0\nRUNID      0\nINTDATE    0\nDAY        0\n          ..\nQ23FLY     0\nQ24SJC     0\nQ24OAK     0\nLANG       0\nWEIGHT     0\nLength: 100, dtype: int64"
     },
     "execution_count": 74,
     "metadata": {},
     "output_type": "execute_result"
    }
   ],
   "source": [
    "# Variable with null\n",
    "columns_null = ['Q2PURP2', 'Q2PURP3', 'Q3GETTO2', 'Q3GETTO3', 'Q3PARK', 'Q8-2', 'Q8-3', 'Q8-4', 'Q8-5', 'Q8-6', 'Q9-2', 'Q9-3', 'Q10-2', 'Q10-3', 'Q12PRECHECKRATE', 'Q12-1', 'Q12-2', 'Q12-3', 'Q15A', 'Q15-1', 'Q15-2', 'Q15-3', 'Q18CITY', 'Q18COUNTY', 'Q18ZIP', 'Q18STATE', 'Q18COUNTRY']\n",
    "data_2018.isnull().sum()"
   ]
  },
  {
   "cell_type": "code",
   "execution_count": 75,
   "outputs": [
    {
     "name": "stdout",
     "output_type": "stream",
     "text": [
      "[2 1 0 3]\n"
     ]
    }
   ],
   "source": [
    "# Variable with hidden null as 0\n",
    "columns_0 = ['Q2PURP1', 'Q4BAGS', 'Q4STORE', 'Q4FOOD', 'Q4WIFI', 'Q5TIMESFLOWN', 'Q5FIRSTTIME', 'Q6LONGUSE', 'Q7ART', 'Q7FOOD', 'Q7STORE', 'Q7SIGN', 'Q7WALKWAY', 'Q7SCREENS', 'Q7INFODOWN', 'Q7INFOUP', 'Q7WIFI', 'Q7ROADS', 'Q7PARK', 'Q7AIRTRAIN', 'Q7LTPARKING', 'Q7RENTAL', 'Q8-1', 'Q9Boarding', 'Q9AirTrain', 'Q9Rental', 'Q9Food', 'Q9Restroom', 'Q9All', 'Q10Safe', 'Q10-1', 'Q11TSAPRE', 'Q13GETRATE', 'Q14FIND ', 'Q14PASSTHRU', 'Q15PROBLEM',  'Q17LIVE', 'Q19Clear', 'Q20Age', 'Q21Gender', 'Q22Income', 'Q23FLY', 'Q24SJC', 'Q24OAK']\n",
    "# Variable with hidden null as 11 - 'NETPRO  '\n",
    "# Variable with hidden null as 99 - 'HOME'\n",
    "# Variable with hidden null as BLANK - 'Q7ALL'\n",
    "print(pd.unique(data_2018['Q24OAK']))"
   ],
   "metadata": {
    "collapsed": false,
    "pycharm": {
     "name": "#%%\n"
    }
   }
  },
  {
   "cell_type": "code",
   "execution_count": 76,
   "outputs": [
    {
     "data": {
      "text/plain": "Index(['RESPNUM', 'CCGID', 'RUNID', 'INTDATE', 'DAY', 'GATE', 'BAREA',\n       'STRATA', 'PEAK', 'METH', 'SAQ', 'AIRLINE', 'DESTINATION', 'FLIGHT',\n       'AIRLINE_CODE', 'DEST_CODE', 'DESTGEO', 'DESTMARK', 'ARRTIME',\n       'DEPTIME', 'HOWLONG', 'Q3GETTO1', 'Q9-1', 'Q13COUNTY', 'LANG',\n       'WEIGHT'],\n      dtype='object')"
     },
     "execution_count": 76,
     "metadata": {},
     "output_type": "execute_result"
    }
   ],
   "source": [
    "# Columns without null values\n",
    "columns_not_null = data_2018.columns.copy().drop(['Q2PURP2', 'Q2PURP3', 'Q3GETTO2', 'Q3GETTO3', 'Q3PARK', 'Q8-2', 'Q8-3', 'Q8-4', 'Q8-5', 'Q8-6', 'Q9-2', 'Q9-3', 'Q10-2', 'Q10-3', 'Q12PRECHECKRATE', 'Q12-1', 'Q12-2', 'Q12-3', 'Q15A', 'Q15-1', 'Q15-2', 'Q15-3', 'Q18CITY', 'Q18COUNTY', 'Q18ZIP', 'Q18STATE', 'Q18COUNTRY', 'Q2PURP1', 'Q4BAGS', 'Q4STORE', 'Q4FOOD', 'Q4WIFI', 'Q5TIMESFLOWN', 'Q5FIRSTTIME', 'Q6LONGUSE', 'Q7ART', 'Q7FOOD', 'Q7STORE', 'Q7SIGN', 'Q7WALKWAY', 'Q7SCREENS', 'Q7INFODOWN', 'Q7INFOUP', 'Q7WIFI', 'Q7ROADS', 'Q7PARK', 'Q7AIRTRAIN', 'Q7LTPARKING', 'Q7RENTAL', 'Q8-1', 'Q9Boarding', 'Q9AirTrain', 'Q9Rental', 'Q9Food', 'Q9Restroom', 'Q9All', 'Q10Safe', 'Q10-1', 'Q11TSAPRE', 'Q13GETRATE', 'Q14FIND ', 'Q14PASSTHRU', 'Q15PROBLEM',  'Q17LIVE', 'Q19Clear', 'Q20Age', 'Q21Gender', 'Q22Income', 'Q23FLY', 'Q24SJC', 'Q24OAK', 'NETPRO  ', 'HOME', 'Q7ALL'])\n",
    "columns_not_null"
   ],
   "metadata": {
    "collapsed": false,
    "pycharm": {
     "name": "#%%\n"
    }
   }
  },
  {
   "cell_type": "code",
   "execution_count": 84,
   "outputs": [
    {
     "data": {
      "text/plain": "390"
     },
     "execution_count": 84,
     "metadata": {},
     "output_type": "execute_result"
    }
   ],
   "source": [
    "# Number of records after dropping all hidden null records\n",
    "data_2018_not_null = data_2018.copy()\n",
    "for col in columns_0:\n",
    "    data_2018_not_null = data_2018_not_null.loc[data_2018_not_null[col] != 0]\n",
    "data_2018_not_null = data_2018_not_null.loc[data_2018_not_null['NETPRO  '] != 11]\n",
    "data_2018_not_null = data_2018_not_null.loc[data_2018_not_null['HOME'] != 99]\n",
    "data_2018_not_null = data_2018_not_null.loc[data_2018_not_null['Q7ALL'] != 'BLANK']\n",
    "len(data_2018_not_null)"
   ],
   "metadata": {
    "collapsed": false,
    "pycharm": {
     "name": "#%%\n"
    }
   }
  },
  {
   "cell_type": "code",
   "execution_count": 91,
   "outputs": [
    {
     "data": {
      "text/plain": "RESPNUM      int64\nCCGID        int64\nRUNID       object\nINTDATE      int64\nDAY          int64\n            ...   \nQ23FLY       int64\nQ24SJC       int64\nQ24OAK       int64\nLANG         int64\nWEIGHT     float64\nLength: 100, dtype: object"
     },
     "execution_count": 91,
     "metadata": {},
     "output_type": "execute_result"
    }
   ],
   "source": [
    "data_2018.dtypes"
   ],
   "metadata": {
    "collapsed": false,
    "pycharm": {
     "name": "#%%\n"
    }
   }
  },
  {
   "cell_type": "code",
   "execution_count": 95,
   "outputs": [
    {
     "data": {
      "text/plain": "  RUNID BAREA           AIRLINE DESTINATION   ARRTIME   DEPTIME HOWLONG  \\\n0   552     G  TURKISH AIRLINES    ISTANBUL  14:00:00  18:15:00   255.0   \n1   552     G  TURKISH AIRLINES    ISTANBUL  13:00:00  18:15:00     315   \n2   552     G  TURKISH AIRLINES    ISTANBUL  15:30:00  18:15:00   165.0   \n3   552     G  TURKISH AIRLINES    ISTANBUL  14:30:00  18:15:00     225   \n4   552     G  TURKISH AIRLINES    ISTANBUL  15:20:00  18:15:00   175.0   \n\n   Q7ALL Q8-5                                               Q15A     Q18CITY  \\\n0      4  NaN                                                NaN         NaN   \n1      4  NaN                                                NaN    ISTANBUL   \n2      4  NaN                                                NaN       IZMIR   \n3      4  NaN                                                NaN      SKOPJE   \n4  BLANK  NaN  I FLEW WITH TK A NUMBER OF TIMES AND NEVER ENC...  REUTLINGEN   \n\n  Q18COUNTY Q18STATE Q18COUNTRY  \n0       NaN      NaN     CYPRUS  \n1       NaN      NaN     TURKEY  \n2       NaN      NaN     TURKEY  \n3       NaN      NaN  MACEDONIA  \n4       NaN      NaN    GERMANY  ",
      "text/html": "<div>\n<style scoped>\n    .dataframe tbody tr th:only-of-type {\n        vertical-align: middle;\n    }\n\n    .dataframe tbody tr th {\n        vertical-align: top;\n    }\n\n    .dataframe thead th {\n        text-align: right;\n    }\n</style>\n<table border=\"1\" class=\"dataframe\">\n  <thead>\n    <tr style=\"text-align: right;\">\n      <th></th>\n      <th>RUNID</th>\n      <th>BAREA</th>\n      <th>AIRLINE</th>\n      <th>DESTINATION</th>\n      <th>ARRTIME</th>\n      <th>DEPTIME</th>\n      <th>HOWLONG</th>\n      <th>Q7ALL</th>\n      <th>Q8-5</th>\n      <th>Q15A</th>\n      <th>Q18CITY</th>\n      <th>Q18COUNTY</th>\n      <th>Q18STATE</th>\n      <th>Q18COUNTRY</th>\n    </tr>\n  </thead>\n  <tbody>\n    <tr>\n      <th>0</th>\n      <td>552</td>\n      <td>G</td>\n      <td>TURKISH AIRLINES</td>\n      <td>ISTANBUL</td>\n      <td>14:00:00</td>\n      <td>18:15:00</td>\n      <td>255.0</td>\n      <td>4</td>\n      <td>NaN</td>\n      <td>NaN</td>\n      <td>NaN</td>\n      <td>NaN</td>\n      <td>NaN</td>\n      <td>CYPRUS</td>\n    </tr>\n    <tr>\n      <th>1</th>\n      <td>552</td>\n      <td>G</td>\n      <td>TURKISH AIRLINES</td>\n      <td>ISTANBUL</td>\n      <td>13:00:00</td>\n      <td>18:15:00</td>\n      <td>315</td>\n      <td>4</td>\n      <td>NaN</td>\n      <td>NaN</td>\n      <td>ISTANBUL</td>\n      <td>NaN</td>\n      <td>NaN</td>\n      <td>TURKEY</td>\n    </tr>\n    <tr>\n      <th>2</th>\n      <td>552</td>\n      <td>G</td>\n      <td>TURKISH AIRLINES</td>\n      <td>ISTANBUL</td>\n      <td>15:30:00</td>\n      <td>18:15:00</td>\n      <td>165.0</td>\n      <td>4</td>\n      <td>NaN</td>\n      <td>NaN</td>\n      <td>IZMIR</td>\n      <td>NaN</td>\n      <td>NaN</td>\n      <td>TURKEY</td>\n    </tr>\n    <tr>\n      <th>3</th>\n      <td>552</td>\n      <td>G</td>\n      <td>TURKISH AIRLINES</td>\n      <td>ISTANBUL</td>\n      <td>14:30:00</td>\n      <td>18:15:00</td>\n      <td>225</td>\n      <td>4</td>\n      <td>NaN</td>\n      <td>NaN</td>\n      <td>SKOPJE</td>\n      <td>NaN</td>\n      <td>NaN</td>\n      <td>MACEDONIA</td>\n    </tr>\n    <tr>\n      <th>4</th>\n      <td>552</td>\n      <td>G</td>\n      <td>TURKISH AIRLINES</td>\n      <td>ISTANBUL</td>\n      <td>15:20:00</td>\n      <td>18:15:00</td>\n      <td>175.0</td>\n      <td>BLANK</td>\n      <td>NaN</td>\n      <td>I FLEW WITH TK A NUMBER OF TIMES AND NEVER ENC...</td>\n      <td>REUTLINGEN</td>\n      <td>NaN</td>\n      <td>NaN</td>\n      <td>GERMANY</td>\n    </tr>\n  </tbody>\n</table>\n</div>"
     },
     "execution_count": 95,
     "metadata": {},
     "output_type": "execute_result"
    }
   ],
   "source": [
    "data_2018_object = data_2018.select_dtypes(include=['object'])\n",
    "data_2018_object.head()"
   ],
   "metadata": {
    "collapsed": false,
    "pycharm": {
     "name": "#%%\n"
    }
   }
  },
  {
   "cell_type": "code",
   "execution_count": 96,
   "outputs": [
    {
     "data": {
      "text/plain": "   RESPNUM  CCGID  INTDATE  DAY  GATE  STRATA  PEAK  METH  SAQ  FLIGHT  ...  \\\n0     1842   1680       21    2   102       3     3     1    2      80  ...   \n1     1844   1681       21    2   102       3     3     1    2      80  ...   \n2     1840   1678       21    2   102       3     3     1    1      80  ...   \n3     1837   1676       21    2   102       3     3     1    1      80  ...   \n4     1833   1674       21    2   102       3     3     1    2      80  ...   \n\n   HOME  Q19Clear  Q20Age  Q21Gender  Q22Income  Q23FLY  Q24SJC  Q24OAK  LANG  \\\n0    15         2       6          2          0       0       2       2     1   \n1    15         2       4          1          2       1       2       2     1   \n2    15         1       5          1          5       2       2       2     1   \n3    15         2       2          2          3       3       2       1     1   \n4    15         2       2          2          2       2       2       2     1   \n\n     WEIGHT  \n0  0.670484  \n1  0.670484  \n2  0.670484  \n3  0.670484  \n4  0.670484  \n\n[5 rows x 86 columns]",
      "text/html": "<div>\n<style scoped>\n    .dataframe tbody tr th:only-of-type {\n        vertical-align: middle;\n    }\n\n    .dataframe tbody tr th {\n        vertical-align: top;\n    }\n\n    .dataframe thead th {\n        text-align: right;\n    }\n</style>\n<table border=\"1\" class=\"dataframe\">\n  <thead>\n    <tr style=\"text-align: right;\">\n      <th></th>\n      <th>RESPNUM</th>\n      <th>CCGID</th>\n      <th>INTDATE</th>\n      <th>DAY</th>\n      <th>GATE</th>\n      <th>STRATA</th>\n      <th>PEAK</th>\n      <th>METH</th>\n      <th>SAQ</th>\n      <th>FLIGHT</th>\n      <th>...</th>\n      <th>HOME</th>\n      <th>Q19Clear</th>\n      <th>Q20Age</th>\n      <th>Q21Gender</th>\n      <th>Q22Income</th>\n      <th>Q23FLY</th>\n      <th>Q24SJC</th>\n      <th>Q24OAK</th>\n      <th>LANG</th>\n      <th>WEIGHT</th>\n    </tr>\n  </thead>\n  <tbody>\n    <tr>\n      <th>0</th>\n      <td>1842</td>\n      <td>1680</td>\n      <td>21</td>\n      <td>2</td>\n      <td>102</td>\n      <td>3</td>\n      <td>3</td>\n      <td>1</td>\n      <td>2</td>\n      <td>80</td>\n      <td>...</td>\n      <td>15</td>\n      <td>2</td>\n      <td>6</td>\n      <td>2</td>\n      <td>0</td>\n      <td>0</td>\n      <td>2</td>\n      <td>2</td>\n      <td>1</td>\n      <td>0.670484</td>\n    </tr>\n    <tr>\n      <th>1</th>\n      <td>1844</td>\n      <td>1681</td>\n      <td>21</td>\n      <td>2</td>\n      <td>102</td>\n      <td>3</td>\n      <td>3</td>\n      <td>1</td>\n      <td>2</td>\n      <td>80</td>\n      <td>...</td>\n      <td>15</td>\n      <td>2</td>\n      <td>4</td>\n      <td>1</td>\n      <td>2</td>\n      <td>1</td>\n      <td>2</td>\n      <td>2</td>\n      <td>1</td>\n      <td>0.670484</td>\n    </tr>\n    <tr>\n      <th>2</th>\n      <td>1840</td>\n      <td>1678</td>\n      <td>21</td>\n      <td>2</td>\n      <td>102</td>\n      <td>3</td>\n      <td>3</td>\n      <td>1</td>\n      <td>1</td>\n      <td>80</td>\n      <td>...</td>\n      <td>15</td>\n      <td>1</td>\n      <td>5</td>\n      <td>1</td>\n      <td>5</td>\n      <td>2</td>\n      <td>2</td>\n      <td>2</td>\n      <td>1</td>\n      <td>0.670484</td>\n    </tr>\n    <tr>\n      <th>3</th>\n      <td>1837</td>\n      <td>1676</td>\n      <td>21</td>\n      <td>2</td>\n      <td>102</td>\n      <td>3</td>\n      <td>3</td>\n      <td>1</td>\n      <td>1</td>\n      <td>80</td>\n      <td>...</td>\n      <td>15</td>\n      <td>2</td>\n      <td>2</td>\n      <td>2</td>\n      <td>3</td>\n      <td>3</td>\n      <td>2</td>\n      <td>1</td>\n      <td>1</td>\n      <td>0.670484</td>\n    </tr>\n    <tr>\n      <th>4</th>\n      <td>1833</td>\n      <td>1674</td>\n      <td>21</td>\n      <td>2</td>\n      <td>102</td>\n      <td>3</td>\n      <td>3</td>\n      <td>1</td>\n      <td>2</td>\n      <td>80</td>\n      <td>...</td>\n      <td>15</td>\n      <td>2</td>\n      <td>2</td>\n      <td>2</td>\n      <td>2</td>\n      <td>2</td>\n      <td>2</td>\n      <td>2</td>\n      <td>1</td>\n      <td>0.670484</td>\n    </tr>\n  </tbody>\n</table>\n<p>5 rows × 86 columns</p>\n</div>"
     },
     "execution_count": 96,
     "metadata": {},
     "output_type": "execute_result"
    }
   ],
   "source": [
    "data_2018_numeric = data_2018.select_dtypes(include=['int64', 'float64'])\n",
    "data_2018_numeric.head()"
   ],
   "metadata": {
    "collapsed": false,
    "pycharm": {
     "name": "#%%\n"
    }
   }
  },
  {
   "cell_type": "code",
   "execution_count": null,
   "outputs": [],
   "source": [
    "# TODO"
   ],
   "metadata": {
    "collapsed": false,
    "pycharm": {
     "name": "#%%\n"
    }
   }
  },
  {
   "cell_type": "code",
   "execution_count": null,
   "outputs": [],
   "source": [
    "data_2018['Q7SCREENS'].corr(data_2018['Q7WIFI'])"
   ],
   "metadata": {
    "collapsed": false,
    "pycharm": {
     "name": "#%%\n"
    }
   }
  },
  {
   "cell_type": "markdown",
   "metadata": {},
   "source": [
    "### Prepare data"
   ]
  },
  {
   "cell_type": "code",
   "execution_count": 97,
   "metadata": {
    "pycharm": {
     "name": "#%%\n"
    }
   },
   "outputs": [],
   "source": [
    "data_2018.loc[data_2018['Q7ALL'] == 'BLANK', 'Q7ALL'] = 0"
   ]
  },
  {
   "cell_type": "code",
   "execution_count": 98,
   "metadata": {
    "pycharm": {
     "name": "#%%\n"
    }
   },
   "outputs": [],
   "source": [
    "data_2018['Q7MEAN'] = data_2018.loc[:, ['Q7ART', 'Q7FOOD', 'Q7STORE', 'Q7SIGN', 'Q7WALKWAY', 'Q7SCREENS', 'Q7INFODOWN', 'Q7INFOUP', 'Q7WIFI', 'Q7ROADS', 'Q7PARK', 'Q7AIRTRAIN', 'Q7LTPARKING', 'Q7RENTAL']].mean(axis=1)"
   ]
  },
  {
   "cell_type": "code",
   "execution_count": 99,
   "metadata": {
    "pycharm": {
     "name": "#%%\n"
    }
   },
   "outputs": [
    {
     "data": {
      "text/plain": "0.4323190874255099"
     },
     "execution_count": 99,
     "metadata": {},
     "output_type": "execute_result"
    }
   ],
   "source": [
    "data_2018 = data_2018.astype({'Q7MEAN': 'int64'})\n",
    "data_2018 = data_2018.astype({'Q7ALL': 'int64'})\n",
    "data_2018['Q7MEAN'].corr(data_2018['Q7ALL'])"
   ]
  },
  {
   "cell_type": "code",
   "execution_count": 132,
   "metadata": {
    "pycharm": {
     "name": "#%%\n"
    }
   },
   "outputs": [
    {
     "data": {
      "text/plain": "   DAY  STRATA  DESTMARK  Q5TIMESFLOWN  Q6LONGUSE  Q7ART  Q7FOOD  Q7STORE  \\\n0    2       3         4             2          1      6       6        3   \n1    2       3         4             1          1      6       3        4   \n2    2       3         4             1          3      3       6        4   \n3    2       3         4             2          0      0       4        4   \n4    2       3         4             3          2      0       0        0   \n\n   Q7SIGN  Q7WALKWAY  ...  Q9Food  Q9Restroom  Q9All  Q10Safe  Q13GETRATE  \\\n0       4          4  ...       6           4      3        3           5   \n1       4          4  ...       6           4      4        4           4   \n2       4          6  ...       6           2      3        4           4   \n3       4          5  ...       3           4      4        4           0   \n4       0          0  ...       4           5      5        3           3   \n\n   Q14FIND   Q14PASSTHRU  NETPRO    Q20Age  Q22Income  \n0         4            3         5       6          0  \n1         4            3         7       4          2  \n2         5            3         7       5          5  \n3         0            0         8       2          3  \n4         3            3         8       2          2  \n\n[5 rows x 34 columns]",
      "text/html": "<div>\n<style scoped>\n    .dataframe tbody tr th:only-of-type {\n        vertical-align: middle;\n    }\n\n    .dataframe tbody tr th {\n        vertical-align: top;\n    }\n\n    .dataframe thead th {\n        text-align: right;\n    }\n</style>\n<table border=\"1\" class=\"dataframe\">\n  <thead>\n    <tr style=\"text-align: right;\">\n      <th></th>\n      <th>DAY</th>\n      <th>STRATA</th>\n      <th>DESTMARK</th>\n      <th>Q5TIMESFLOWN</th>\n      <th>Q6LONGUSE</th>\n      <th>Q7ART</th>\n      <th>Q7FOOD</th>\n      <th>Q7STORE</th>\n      <th>Q7SIGN</th>\n      <th>Q7WALKWAY</th>\n      <th>...</th>\n      <th>Q9Food</th>\n      <th>Q9Restroom</th>\n      <th>Q9All</th>\n      <th>Q10Safe</th>\n      <th>Q13GETRATE</th>\n      <th>Q14FIND</th>\n      <th>Q14PASSTHRU</th>\n      <th>NETPRO</th>\n      <th>Q20Age</th>\n      <th>Q22Income</th>\n    </tr>\n  </thead>\n  <tbody>\n    <tr>\n      <th>0</th>\n      <td>2</td>\n      <td>3</td>\n      <td>4</td>\n      <td>2</td>\n      <td>1</td>\n      <td>6</td>\n      <td>6</td>\n      <td>3</td>\n      <td>4</td>\n      <td>4</td>\n      <td>...</td>\n      <td>6</td>\n      <td>4</td>\n      <td>3</td>\n      <td>3</td>\n      <td>5</td>\n      <td>4</td>\n      <td>3</td>\n      <td>5</td>\n      <td>6</td>\n      <td>0</td>\n    </tr>\n    <tr>\n      <th>1</th>\n      <td>2</td>\n      <td>3</td>\n      <td>4</td>\n      <td>1</td>\n      <td>1</td>\n      <td>6</td>\n      <td>3</td>\n      <td>4</td>\n      <td>4</td>\n      <td>4</td>\n      <td>...</td>\n      <td>6</td>\n      <td>4</td>\n      <td>4</td>\n      <td>4</td>\n      <td>4</td>\n      <td>4</td>\n      <td>3</td>\n      <td>7</td>\n      <td>4</td>\n      <td>2</td>\n    </tr>\n    <tr>\n      <th>2</th>\n      <td>2</td>\n      <td>3</td>\n      <td>4</td>\n      <td>1</td>\n      <td>3</td>\n      <td>3</td>\n      <td>6</td>\n      <td>4</td>\n      <td>4</td>\n      <td>6</td>\n      <td>...</td>\n      <td>6</td>\n      <td>2</td>\n      <td>3</td>\n      <td>4</td>\n      <td>4</td>\n      <td>5</td>\n      <td>3</td>\n      <td>7</td>\n      <td>5</td>\n      <td>5</td>\n    </tr>\n    <tr>\n      <th>3</th>\n      <td>2</td>\n      <td>3</td>\n      <td>4</td>\n      <td>2</td>\n      <td>0</td>\n      <td>0</td>\n      <td>4</td>\n      <td>4</td>\n      <td>4</td>\n      <td>5</td>\n      <td>...</td>\n      <td>3</td>\n      <td>4</td>\n      <td>4</td>\n      <td>4</td>\n      <td>0</td>\n      <td>0</td>\n      <td>0</td>\n      <td>8</td>\n      <td>2</td>\n      <td>3</td>\n    </tr>\n    <tr>\n      <th>4</th>\n      <td>2</td>\n      <td>3</td>\n      <td>4</td>\n      <td>3</td>\n      <td>2</td>\n      <td>0</td>\n      <td>0</td>\n      <td>0</td>\n      <td>0</td>\n      <td>0</td>\n      <td>...</td>\n      <td>4</td>\n      <td>5</td>\n      <td>5</td>\n      <td>3</td>\n      <td>3</td>\n      <td>3</td>\n      <td>3</td>\n      <td>8</td>\n      <td>2</td>\n      <td>2</td>\n    </tr>\n  </tbody>\n</table>\n<p>5 rows × 34 columns</p>\n</div>"
     },
     "execution_count": 132,
     "metadata": {},
     "output_type": "execute_result"
    }
   ],
   "source": [
    "# Select columns\n",
    "columns_quantitative = ['DAY', 'STRATA', 'DESTMARK', 'Q5TIMESFLOWN', 'Q6LONGUSE', 'Q7ART', 'Q7FOOD', 'Q7STORE', 'Q7SIGN', 'Q7WALKWAY', 'Q7SCREENS', 'Q7INFODOWN', 'Q7INFOUP', 'Q7WIFI', 'Q7ROADS', 'Q7PARK', 'Q7AIRTRAIN', 'Q7LTPARKING', 'Q7RENTAL', 'Q7MEAN', 'Q7ALL', 'Q9Boarding', 'Q9AirTrain', 'Q9Rental', 'Q9Food', 'Q9Restroom', 'Q9All', 'Q10Safe', 'Q13GETRATE', 'Q14FIND ', 'Q14PASSTHRU', 'NETPRO  ', 'Q20Age', 'Q22Income']\n",
    "data_2018_quantitative = data_2018[columns_quantitative]\n",
    "\n",
    "data_2018_quantitative.head()"
   ]
  },
  {
   "cell_type": "code",
   "execution_count": 133,
   "metadata": {
    "pycharm": {
     "name": "#%%\n"
    }
   },
   "outputs": [
    {
     "name": "stdout",
     "output_type": "stream",
     "text": [
      "DAY             0\n",
      "STRATA          0\n",
      "DESTMARK        0\n",
      "Q5TIMESFLOWN    0\n",
      "Q6LONGUSE       0\n",
      "Q7ART           0\n",
      "Q7FOOD          0\n",
      "Q7STORE         0\n",
      "Q7SIGN          0\n",
      "Q7WALKWAY       0\n",
      "Q7SCREENS       0\n",
      "Q7INFODOWN      0\n",
      "Q7INFOUP        0\n",
      "Q7WIFI          0\n",
      "Q7ROADS         0\n",
      "Q7PARK          0\n",
      "Q7AIRTRAIN      0\n",
      "Q7LTPARKING     0\n",
      "Q7RENTAL        0\n",
      "Q7MEAN          0\n",
      "Q7ALL           0\n",
      "Q9Boarding      0\n",
      "Q9AirTrain      0\n",
      "Q9Rental        0\n",
      "Q9Food          0\n",
      "Q9Restroom      0\n",
      "Q9All           0\n",
      "Q10Safe         0\n",
      "Q13GETRATE      0\n",
      "Q14FIND         0\n",
      "Q14PASSTHRU     0\n",
      "NETPRO          0\n",
      "Q20Age          0\n",
      "Q22Income       0\n",
      "dtype: int64\n"
     ]
    }
   ],
   "source": [
    "print(data_2018_quantitative.isnull().sum())"
   ]
  },
  {
   "cell_type": "markdown",
   "metadata": {},
   "source": [
    "### First trial of k-means on quantitative data"
   ]
  },
  {
   "cell_type": "code",
   "execution_count": 166,
   "metadata": {
    "pycharm": {
     "name": "#%%\n"
    }
   },
   "outputs": [
    {
     "data": {
      "text/plain": "array([[-1.2568419 ,  1.0911016 ,  0.72857123, ..., -1.37057818,\n         0.51452297,  0.51452297],\n       [-1.2568419 ,  1.0911016 ,  0.72857123, ..., -0.03146371,\n         0.51452297,  0.51452297],\n       [-1.2568419 ,  1.0911016 ,  0.72857123, ...,  1.97720799,\n         0.51452297,  0.51452297],\n       ...,\n       [ 1.697031  , -0.1896775 ,  0.72857123, ...,  1.30765076,\n         0.51452297,  0.51452297],\n       [ 1.10625642,  1.0911016 , -1.14385017, ...,  1.30765076,\n         0.51452297,  0.51452297],\n       [-0.66606732,  1.0911016 , -1.14385017, ..., -1.37057818,\n        -1.23100243, -1.23100243]])"
     },
     "execution_count": 166,
     "metadata": {},
     "output_type": "execute_result"
    }
   ],
   "source": [
    "scaler = StandardScaler()\n",
    "scaler.fit(data_2018_quantitative)\n",
    "scaled_data = scaler.transform(data_2018_quantitative)\n",
    "scaled_data"
   ]
  },
  {
   "cell_type": "code",
   "execution_count": 167,
   "outputs": [],
   "source": [
    "# data_2018_concat = pd.concat([data_2018.loc[:, ~data_2018.columns.isin(columns_quantitative)],\n",
    "#                               pd.DataFrame(scaled_data, columns = columns_quantitative)], axis=1)\n",
    "# data_2018_concat"
   ],
   "metadata": {
    "collapsed": false,
    "pycharm": {
     "name": "#%%\n"
    }
   }
  },
  {
   "cell_type": "code",
   "execution_count": 168,
   "metadata": {
    "pycharm": {
     "name": "#%%\n"
    }
   },
   "outputs": [],
   "source": [
    "def find_best_clusters(df, maximum_K):\n",
    "\n",
    "    clusters_centers = []\n",
    "    k_values = []\n",
    "\n",
    "    for k in range(1, maximum_K):\n",
    "\n",
    "        kmeans_model = KMeans(n_clusters = k)\n",
    "        kmeans_model.fit(df)\n",
    "\n",
    "        clusters_centers.append(kmeans_model.inertia_)\n",
    "        k_values.append(k)\n",
    "\n",
    "    #Generate elbow plot\n",
    "    figure = plt.subplots(figsize = (12, 6))\n",
    "    plt.plot(k_values, clusters_centers, 'o-', color = 'orange')\n",
    "    plt.xlabel(\"Number of Clusters (K)\")\n",
    "    plt.ylabel(\"Cluster Inertia\")\n",
    "    plt.title(\"Elbow Plot of KMeans\")\n",
    "    plt.show()\n",
    "\n",
    "    # return clusters_centers, k_values"
   ]
  },
  {
   "cell_type": "code",
   "execution_count": 169,
   "outputs": [
    {
     "name": "stderr",
     "output_type": "stream",
     "text": [
      "c:\\users\\alicj\\appdata\\local\\programs\\python\\python38\\lib\\site-packages\\sklearn\\cluster\\_kmeans.py:1412: FutureWarning: The default value of `n_init` will change from 10 to 'auto' in 1.4. Set the value of `n_init` explicitly to suppress the warning\n",
      "  super()._check_params_vs_input(X, default_n_init=10)\n",
      "c:\\users\\alicj\\appdata\\local\\programs\\python\\python38\\lib\\site-packages\\sklearn\\cluster\\_kmeans.py:1412: FutureWarning: The default value of `n_init` will change from 10 to 'auto' in 1.4. Set the value of `n_init` explicitly to suppress the warning\n",
      "  super()._check_params_vs_input(X, default_n_init=10)\n",
      "c:\\users\\alicj\\appdata\\local\\programs\\python\\python38\\lib\\site-packages\\sklearn\\cluster\\_kmeans.py:1412: FutureWarning: The default value of `n_init` will change from 10 to 'auto' in 1.4. Set the value of `n_init` explicitly to suppress the warning\n",
      "  super()._check_params_vs_input(X, default_n_init=10)\n",
      "c:\\users\\alicj\\appdata\\local\\programs\\python\\python38\\lib\\site-packages\\sklearn\\cluster\\_kmeans.py:1412: FutureWarning: The default value of `n_init` will change from 10 to 'auto' in 1.4. Set the value of `n_init` explicitly to suppress the warning\n",
      "  super()._check_params_vs_input(X, default_n_init=10)\n",
      "c:\\users\\alicj\\appdata\\local\\programs\\python\\python38\\lib\\site-packages\\sklearn\\cluster\\_kmeans.py:1412: FutureWarning: The default value of `n_init` will change from 10 to 'auto' in 1.4. Set the value of `n_init` explicitly to suppress the warning\n",
      "  super()._check_params_vs_input(X, default_n_init=10)\n",
      "c:\\users\\alicj\\appdata\\local\\programs\\python\\python38\\lib\\site-packages\\sklearn\\cluster\\_kmeans.py:1412: FutureWarning: The default value of `n_init` will change from 10 to 'auto' in 1.4. Set the value of `n_init` explicitly to suppress the warning\n",
      "  super()._check_params_vs_input(X, default_n_init=10)\n",
      "c:\\users\\alicj\\appdata\\local\\programs\\python\\python38\\lib\\site-packages\\sklearn\\cluster\\_kmeans.py:1412: FutureWarning: The default value of `n_init` will change from 10 to 'auto' in 1.4. Set the value of `n_init` explicitly to suppress the warning\n",
      "  super()._check_params_vs_input(X, default_n_init=10)\n",
      "c:\\users\\alicj\\appdata\\local\\programs\\python\\python38\\lib\\site-packages\\sklearn\\cluster\\_kmeans.py:1412: FutureWarning: The default value of `n_init` will change from 10 to 'auto' in 1.4. Set the value of `n_init` explicitly to suppress the warning\n",
      "  super()._check_params_vs_input(X, default_n_init=10)\n",
      "c:\\users\\alicj\\appdata\\local\\programs\\python\\python38\\lib\\site-packages\\sklearn\\cluster\\_kmeans.py:1412: FutureWarning: The default value of `n_init` will change from 10 to 'auto' in 1.4. Set the value of `n_init` explicitly to suppress the warning\n",
      "  super()._check_params_vs_input(X, default_n_init=10)\n",
      "c:\\users\\alicj\\appdata\\local\\programs\\python\\python38\\lib\\site-packages\\sklearn\\cluster\\_kmeans.py:1412: FutureWarning: The default value of `n_init` will change from 10 to 'auto' in 1.4. Set the value of `n_init` explicitly to suppress the warning\n",
      "  super()._check_params_vs_input(X, default_n_init=10)\n",
      "c:\\users\\alicj\\appdata\\local\\programs\\python\\python38\\lib\\site-packages\\sklearn\\cluster\\_kmeans.py:1412: FutureWarning: The default value of `n_init` will change from 10 to 'auto' in 1.4. Set the value of `n_init` explicitly to suppress the warning\n",
      "  super()._check_params_vs_input(X, default_n_init=10)\n",
      "c:\\users\\alicj\\appdata\\local\\programs\\python\\python38\\lib\\site-packages\\sklearn\\cluster\\_kmeans.py:1412: FutureWarning: The default value of `n_init` will change from 10 to 'auto' in 1.4. Set the value of `n_init` explicitly to suppress the warning\n",
      "  super()._check_params_vs_input(X, default_n_init=10)\n",
      "c:\\users\\alicj\\appdata\\local\\programs\\python\\python38\\lib\\site-packages\\sklearn\\cluster\\_kmeans.py:1412: FutureWarning: The default value of `n_init` will change from 10 to 'auto' in 1.4. Set the value of `n_init` explicitly to suppress the warning\n",
      "  super()._check_params_vs_input(X, default_n_init=10)\n",
      "c:\\users\\alicj\\appdata\\local\\programs\\python\\python38\\lib\\site-packages\\sklearn\\cluster\\_kmeans.py:1412: FutureWarning: The default value of `n_init` will change from 10 to 'auto' in 1.4. Set the value of `n_init` explicitly to suppress the warning\n",
      "  super()._check_params_vs_input(X, default_n_init=10)\n",
      "c:\\users\\alicj\\appdata\\local\\programs\\python\\python38\\lib\\site-packages\\sklearn\\cluster\\_kmeans.py:1412: FutureWarning: The default value of `n_init` will change from 10 to 'auto' in 1.4. Set the value of `n_init` explicitly to suppress the warning\n",
      "  super()._check_params_vs_input(X, default_n_init=10)\n",
      "c:\\users\\alicj\\appdata\\local\\programs\\python\\python38\\lib\\site-packages\\sklearn\\cluster\\_kmeans.py:1412: FutureWarning: The default value of `n_init` will change from 10 to 'auto' in 1.4. Set the value of `n_init` explicitly to suppress the warning\n",
      "  super()._check_params_vs_input(X, default_n_init=10)\n",
      "c:\\users\\alicj\\appdata\\local\\programs\\python\\python38\\lib\\site-packages\\sklearn\\cluster\\_kmeans.py:1412: FutureWarning: The default value of `n_init` will change from 10 to 'auto' in 1.4. Set the value of `n_init` explicitly to suppress the warning\n",
      "  super()._check_params_vs_input(X, default_n_init=10)\n",
      "c:\\users\\alicj\\appdata\\local\\programs\\python\\python38\\lib\\site-packages\\sklearn\\cluster\\_kmeans.py:1412: FutureWarning: The default value of `n_init` will change from 10 to 'auto' in 1.4. Set the value of `n_init` explicitly to suppress the warning\n",
      "  super()._check_params_vs_input(X, default_n_init=10)\n",
      "c:\\users\\alicj\\appdata\\local\\programs\\python\\python38\\lib\\site-packages\\sklearn\\cluster\\_kmeans.py:1412: FutureWarning: The default value of `n_init` will change from 10 to 'auto' in 1.4. Set the value of `n_init` explicitly to suppress the warning\n",
      "  super()._check_params_vs_input(X, default_n_init=10)\n"
     ]
    },
    {
     "data": {
      "text/plain": "<Figure size 864x432 with 1 Axes>",
      "image/png": "[encoded data removed]"
     },
     "metadata": {
      "needs_background": "light"
     },
     "output_type": "display_data"
    }
   ],
   "source": [
    "find_best_clusters(scaled_data, 20)"
   ],
   "metadata": {
    "collapsed": false,
    "pycharm": {
     "name": "#%%\n"
    }
   }
  },
  {
   "cell_type": "code",
   "execution_count": 170,
   "metadata": {
    "pycharm": {
     "name": "#%%\n"
    }
   },
   "outputs": [
    {
     "name": "stderr",
     "output_type": "stream",
     "text": [
      "c:\\users\\alicj\\appdata\\local\\programs\\python\\python38\\lib\\site-packages\\sklearn\\cluster\\_kmeans.py:1412: FutureWarning: The default value of `n_init` will change from 10 to 'auto' in 1.4. Set the value of `n_init` explicitly to suppress the warning\n",
      "  super()._check_params_vs_input(X, default_n_init=10)\n"
     ]
    },
    {
     "data": {
      "text/plain": "KMeans(n_clusters=3)",
      "text/html": "<style>#sk-container-id-4 {color: black;}#sk-container-id-4 pre{padding: 0;}#sk-container-id-4 div.sk-toggleable {background-color: white;}#sk-container-id-4 label.sk-toggleable__label {cursor: pointer;display: block;width: 100%;margin-bottom: 0;padding: 0.3em;box-sizing: border-box;text-align: center;}#sk-container-id-4 label.sk-toggleable__label-arrow:before {content: \"▸\";float: left;margin-right: 0.25em;color: #696969;}#sk-container-id-4 label.sk-toggleable__label-arrow:hover:before {color: black;}#sk-container-id-4 div.sk-estimator:hover label.sk-toggleable__label-arrow:before {color: black;}#sk-container-id-4 div.sk-toggleable__content {max-height: 0;max-width: 0;overflow: hidden;text-align: left;background-color: #f0f8ff;}#sk-container-id-4 div.sk-toggleable__content pre {margin: 0.2em;color: black;border-radius: 0.25em;background-color: #f0f8ff;}#sk-container-id-4 input.sk-toggleable__control:checked~div.sk-toggleable__content {max-height: 200px;max-width: 100%;overflow: auto;}#sk-container-id-4 input.sk-toggleable__control:checked~label.sk-toggleable__label-arrow:before {content: \"▾\";}#sk-container-id-4 div.sk-estimator input.sk-toggleable__control:checked~label.sk-toggleable__label {background-color: #d4ebff;}#sk-container-id-4 div.sk-label input.sk-toggleable__control:checked~label.sk-toggleable__label {background-color: #d4ebff;}#sk-container-id-4 input.sk-hidden--visually {border: 0;clip: rect(1px 1px 1px 1px);clip: rect(1px, 1px, 1px, 1px);height: 1px;margin: -1px;overflow: hidden;padding: 0;position: absolute;width: 1px;}#sk-container-id-4 div.sk-estimator {font-family: monospace;background-color: #f0f8ff;border: 1px dotted black;border-radius: 0.25em;box-sizing: border-box;margin-bottom: 0.5em;}#sk-container-id-4 div.sk-estimator:hover {background-color: #d4ebff;}#sk-container-id-4 div.sk-parallel-item::after {content: \"\";width: 100%;border-bottom: 1px solid gray;flex-grow: 1;}#sk-container-id-4 div.sk-label:hover label.sk-toggleable__label {background-color: #d4ebff;}#sk-container-id-4 div.sk-serial::before {content: \"\";position: absolute;border-left: 1px solid gray;box-sizing: border-box;top: 0;bottom: 0;left: 50%;z-index: 0;}#sk-container-id-4 div.sk-serial {display: flex;flex-direction: column;align-items: center;background-color: white;padding-right: 0.2em;padding-left: 0.2em;position: relative;}#sk-container-id-4 div.sk-item {position: relative;z-index: 1;}#sk-container-id-4 div.sk-parallel {display: flex;align-items: stretch;justify-content: center;background-color: white;position: relative;}#sk-container-id-4 div.sk-item::before, #sk-container-id-4 div.sk-parallel-item::before {content: \"\";position: absolute;border-left: 1px solid gray;box-sizing: border-box;top: 0;bottom: 0;left: 50%;z-index: -1;}#sk-container-id-4 div.sk-parallel-item {display: flex;flex-direction: column;z-index: 1;position: relative;background-color: white;}#sk-container-id-4 div.sk-parallel-item:first-child::after {align-self: flex-end;width: 50%;}#sk-container-id-4 div.sk-parallel-item:last-child::after {align-self: flex-start;width: 50%;}#sk-container-id-4 div.sk-parallel-item:only-child::after {width: 0;}#sk-container-id-4 div.sk-dashed-wrapped {border: 1px dashed gray;margin: 0 0.4em 0.5em 0.4em;box-sizing: border-box;padding-bottom: 0.4em;background-color: white;}#sk-container-id-4 div.sk-label label {font-family: monospace;font-weight: bold;display: inline-block;line-height: 1.2em;}#sk-container-id-4 div.sk-label-container {text-align: center;}#sk-container-id-4 div.sk-container {/* jupyter's `normalize.less` sets `[hidden] { display: none; }` but bootstrap.min.css set `[hidden] { display: none !important; }` so we also need the `!important` here to be able to override the default hidden behavior on the sphinx rendered scikit-learn.org. See: https://github.com/scikit-learn/scikit-learn/issues/21755 */display: inline-block !important;position: relative;}#sk-container-id-4 div.sk-text-repr-fallback {display: none;}</style><div id=\"sk-container-id-4\" class=\"sk-top-container\"><div class=\"sk-text-repr-fallback\"><pre>KMeans(n_clusters=3)</pre><b>In a Jupyter environment, please rerun this cell to show the HTML representation or trust the notebook. <br />On GitHub, the HTML representation is unable to render, please try loading this page with nbviewer.org.</b></div><div class=\"sk-container\" hidden><div class=\"sk-item\"><div class=\"sk-estimator sk-toggleable\"><input class=\"sk-toggleable__control sk-hidden--visually\" id=\"sk-estimator-id-4\" type=\"checkbox\" checked><label for=\"sk-estimator-id-4\" class=\"sk-toggleable__label sk-toggleable__label-arrow\">KMeans</label><div class=\"sk-toggleable__content\"><pre>KMeans(n_clusters=3)</pre></div></div></div></div></div>"
     },
     "execution_count": 170,
     "metadata": {},
     "output_type": "execute_result"
    }
   ],
   "source": [
    "kmeans_model = KMeans(n_clusters = 3)\n",
    "\n",
    "kmeans_model.fit(scaled_data)"
   ]
  },
  {
   "cell_type": "code",
   "execution_count": 171,
   "metadata": {
    "pycharm": {
     "name": "#%%\n"
    }
   },
   "outputs": [
    {
     "name": "stderr",
     "output_type": "stream",
     "text": [
      "<ipython-input-171-eed1dd94fc39>:1: SettingWithCopyWarning: \n",
      "A value is trying to be set on a copy of a slice from a DataFrame.\n",
      "Try using .loc[row_indexer,col_indexer] = value instead\n",
      "\n",
      "See the caveats in the documentation: https://pandas.pydata.org/pandas-docs/stable/user_guide/indexing.html#returning-a-view-versus-a-copy\n",
      "  data_2018_quantitative['clusters'] = kmeans_model.labels_\n"
     ]
    },
    {
     "data": {
      "text/plain": "   DAY  STRATA  DESTMARK  Q5TIMESFLOWN  Q6LONGUSE  Q7ART  Q7FOOD  Q7STORE  \\\n0    2       3         4             2          1      6       6        3   \n1    2       3         4             1          1      6       3        4   \n2    2       3         4             1          3      3       6        4   \n3    2       3         4             2          0      0       4        4   \n4    2       3         4             3          2      0       0        0   \n\n   Q7SIGN  Q7WALKWAY  ...  Q9All  Q10Safe  Q13GETRATE  Q14FIND   Q14PASSTHRU  \\\n0       4          4  ...      3        3           5         4            3   \n1       4          4  ...      4        4           4         4            3   \n2       4          6  ...      3        4           4         5            3   \n3       4          5  ...      4        4           0         0            0   \n4       0          0  ...      5        3           3         3            3   \n\n   NETPRO    Q20Age  Q22Income  clusters  clusters_2  \n0         5       6          0         2           1  \n1         7       4          2         2           1  \n2         7       5          5         2           1  \n3         8       2          3         0           2  \n4         8       2          2         0           2  \n\n[5 rows x 36 columns]",
      "text/html": "<div>\n<style scoped>\n    .dataframe tbody tr th:only-of-type {\n        vertical-align: middle;\n    }\n\n    .dataframe tbody tr th {\n        vertical-align: top;\n    }\n\n    .dataframe thead th {\n        text-align: right;\n    }\n</style>\n<table border=\"1\" class=\"dataframe\">\n  <thead>\n    <tr style=\"text-align: right;\">\n      <th></th>\n      <th>DAY</th>\n      <th>STRATA</th>\n      <th>DESTMARK</th>\n      <th>Q5TIMESFLOWN</th>\n      <th>Q6LONGUSE</th>\n      <th>Q7ART</th>\n      <th>Q7FOOD</th>\n      <th>Q7STORE</th>\n      <th>Q7SIGN</th>\n      <th>Q7WALKWAY</th>\n      <th>...</th>\n      <th>Q9All</th>\n      <th>Q10Safe</th>\n      <th>Q13GETRATE</th>\n      <th>Q14FIND</th>\n      <th>Q14PASSTHRU</th>\n      <th>NETPRO</th>\n      <th>Q20Age</th>\n      <th>Q22Income</th>\n      <th>clusters</th>\n      <th>clusters_2</th>\n    </tr>\n  </thead>\n  <tbody>\n    <tr>\n      <th>0</th>\n      <td>2</td>\n      <td>3</td>\n      <td>4</td>\n      <td>2</td>\n      <td>1</td>\n      <td>6</td>\n      <td>6</td>\n      <td>3</td>\n      <td>4</td>\n      <td>4</td>\n      <td>...</td>\n      <td>3</td>\n      <td>3</td>\n      <td>5</td>\n      <td>4</td>\n      <td>3</td>\n      <td>5</td>\n      <td>6</td>\n      <td>0</td>\n      <td>2</td>\n      <td>1</td>\n    </tr>\n    <tr>\n      <th>1</th>\n      <td>2</td>\n      <td>3</td>\n      <td>4</td>\n      <td>1</td>\n      <td>1</td>\n      <td>6</td>\n      <td>3</td>\n      <td>4</td>\n      <td>4</td>\n      <td>4</td>\n      <td>...</td>\n      <td>4</td>\n      <td>4</td>\n      <td>4</td>\n      <td>4</td>\n      <td>3</td>\n      <td>7</td>\n      <td>4</td>\n      <td>2</td>\n      <td>2</td>\n      <td>1</td>\n    </tr>\n    <tr>\n      <th>2</th>\n      <td>2</td>\n      <td>3</td>\n      <td>4</td>\n      <td>1</td>\n      <td>3</td>\n      <td>3</td>\n      <td>6</td>\n      <td>4</td>\n      <td>4</td>\n      <td>6</td>\n      <td>...</td>\n      <td>3</td>\n      <td>4</td>\n      <td>4</td>\n      <td>5</td>\n      <td>3</td>\n      <td>7</td>\n      <td>5</td>\n      <td>5</td>\n      <td>2</td>\n      <td>1</td>\n    </tr>\n    <tr>\n      <th>3</th>\n      <td>2</td>\n      <td>3</td>\n      <td>4</td>\n      <td>2</td>\n      <td>0</td>\n      <td>0</td>\n      <td>4</td>\n      <td>4</td>\n      <td>4</td>\n      <td>5</td>\n      <td>...</td>\n      <td>4</td>\n      <td>4</td>\n      <td>0</td>\n      <td>0</td>\n      <td>0</td>\n      <td>8</td>\n      <td>2</td>\n      <td>3</td>\n      <td>0</td>\n      <td>2</td>\n    </tr>\n    <tr>\n      <th>4</th>\n      <td>2</td>\n      <td>3</td>\n      <td>4</td>\n      <td>3</td>\n      <td>2</td>\n      <td>0</td>\n      <td>0</td>\n      <td>0</td>\n      <td>0</td>\n      <td>0</td>\n      <td>...</td>\n      <td>5</td>\n      <td>3</td>\n      <td>3</td>\n      <td>3</td>\n      <td>3</td>\n      <td>8</td>\n      <td>2</td>\n      <td>2</td>\n      <td>0</td>\n      <td>2</td>\n    </tr>\n  </tbody>\n</table>\n<p>5 rows × 36 columns</p>\n</div>"
     },
     "execution_count": 171,
     "metadata": {},
     "output_type": "execute_result"
    }
   ],
   "source": [
    "data_2018_quantitative['clusters'] = kmeans_model.labels_\n",
    "\n",
    "data_2018_quantitative.head()"
   ]
  },
  {
   "cell_type": "code",
   "execution_count": 172,
   "metadata": {
    "pycharm": {
     "name": "#%%\n"
    }
   },
   "outputs": [
    {
     "data": {
      "text/plain": "<matplotlib.collections.PathCollection at 0x202538db670>"
     },
     "execution_count": 172,
     "metadata": {},
     "output_type": "execute_result"
    },
    {
     "data": {
      "text/plain": "<Figure size 432x288 with 1 Axes>",
      "image/png": "[encoded data removed]"
     },
     "metadata": {
      "needs_background": "light"
     },
     "output_type": "display_data"
    }
   ],
   "source": [
    "plt.scatter(data_2018_quantitative['Q5TIMESFLOWN'],\n",
    "            data_2018_quantitative['Q22Income'],\n",
    "            c = data_2018_quantitative['clusters'])"
   ]
  },
  {
   "cell_type": "code",
   "execution_count": 173,
   "outputs": [
    {
     "data": {
      "text/plain": "              DAY      STRATA    DESTMARK  Q5TIMESFLOWN   Q6LONGUSE  \\\ncount  169.000000  169.000000  169.000000    169.000000  169.000000   \nmean     4.112426    2.171598    3.224852      2.183432    2.284024   \nstd      1.691829    0.723844    1.078622      1.462454    1.414985   \nmin      1.000000    1.000000    1.000000      0.000000    0.000000   \n25%      3.000000    2.000000    2.000000      1.000000    1.000000   \n50%      4.000000    2.000000    4.000000      2.000000    2.000000   \n75%      5.000000    3.000000    4.000000      3.000000    4.000000   \nmax      7.000000    3.000000    4.000000      6.000000    4.000000   \n\n            Q7ART      Q7FOOD     Q7STORE      Q7SIGN   Q7WALKWAY  ...  \\\ncount  169.000000  169.000000  169.000000  169.000000  169.000000  ...   \nmean     1.952663    1.988166    1.615385    1.928994    1.911243  ...   \nstd      2.052323    1.858020    1.755942    1.925932    1.990556  ...   \nmin      0.000000    0.000000    0.000000    0.000000    0.000000  ...   \n25%      0.000000    0.000000    0.000000    0.000000    0.000000  ...   \n50%      2.000000    2.000000    1.000000    2.000000    2.000000  ...   \n75%      4.000000    4.000000    3.000000    4.000000    4.000000  ...   \nmax      6.000000    6.000000    6.000000    6.000000    5.000000  ...   \n\n            Q9All     Q10Safe  Q13GETRATE    Q14FIND   Q14PASSTHRU  \\\ncount  169.000000  169.000000  169.000000  169.000000   169.000000   \nmean     2.378698    3.065089    1.905325    2.573964     2.153846   \nstd      2.078466    1.899693    2.070894    2.114752     2.173980   \nmin      0.000000    0.000000    0.000000    0.000000     0.000000   \n25%      0.000000    2.000000    0.000000    0.000000     0.000000   \n50%      3.000000    4.000000    1.000000    3.000000     2.000000   \n75%      4.000000    5.000000    4.000000    5.000000     4.000000   \nmax      5.000000    5.000000    6.000000    6.000000     6.000000   \n\n         NETPRO        Q20Age   Q22Income  clusters  clusters_2  \ncount  169.000000  169.000000  169.000000     169.0       169.0  \nmean     8.124260    4.017751    1.307692       0.0         2.0  \nstd      2.695223    2.541263    1.511858       0.0         0.0  \nmin      0.000000    0.000000    0.000000       0.0         2.0  \n25%      7.000000    2.000000    0.000000       0.0         2.0  \n50%      9.000000    5.000000    1.000000       0.0         2.0  \n75%     10.000000    6.000000    2.000000       0.0         2.0  \nmax     11.000000    7.000000    5.000000       0.0         2.0  \n\n[8 rows x 36 columns]",
      "text/html": "<div>\n<style scoped>\n    .dataframe tbody tr th:only-of-type {\n        vertical-align: middle;\n    }\n\n    .dataframe tbody tr th {\n        vertical-align: top;\n    }\n\n    .dataframe thead th {\n        text-align: right;\n    }\n</style>\n<table border=\"1\" class=\"dataframe\">\n  <thead>\n    <tr style=\"text-align: right;\">\n      <th></th>\n      <th>DAY</th>\n      <th>STRATA</th>\n      <th>DESTMARK</th>\n      <th>Q5TIMESFLOWN</th>\n      <th>Q6LONGUSE</th>\n      <th>Q7ART</th>\n      <th>Q7FOOD</th>\n      <th>Q7STORE</th>\n      <th>Q7SIGN</th>\n      <th>Q7WALKWAY</th>\n      <th>...</th>\n      <th>Q9All</th>\n      <th>Q10Safe</th>\n      <th>Q13GETRATE</th>\n      <th>Q14FIND</th>\n      <th>Q14PASSTHRU</th>\n      <th>NETPRO</th>\n      <th>Q20Age</th>\n      <th>Q22Income</th>\n      <th>clusters</th>\n      <th>clusters_2</th>\n    </tr>\n  </thead>\n  <tbody>\n    <tr>\n      <th>count</th>\n      <td>169.000000</td>\n      <td>169.000000</td>\n      <td>169.000000</td>\n      <td>169.000000</td>\n      <td>169.000000</td>\n      <td>169.000000</td>\n      <td>169.000000</td>\n      <td>169.000000</td>\n      <td>169.000000</td>\n      <td>169.000000</td>\n      <td>...</td>\n      <td>169.000000</td>\n      <td>169.000000</td>\n      <td>169.000000</td>\n      <td>169.000000</td>\n      <td>169.000000</td>\n      <td>169.000000</td>\n      <td>169.000000</td>\n      <td>169.000000</td>\n      <td>169.0</td>\n      <td>169.0</td>\n    </tr>\n    <tr>\n      <th>mean</th>\n      <td>4.112426</td>\n      <td>2.171598</td>\n      <td>3.224852</td>\n      <td>2.183432</td>\n      <td>2.284024</td>\n      <td>1.952663</td>\n      <td>1.988166</td>\n      <td>1.615385</td>\n      <td>1.928994</td>\n      <td>1.911243</td>\n      <td>...</td>\n      <td>2.378698</td>\n      <td>3.065089</td>\n      <td>1.905325</td>\n      <td>2.573964</td>\n      <td>2.153846</td>\n      <td>8.124260</td>\n      <td>4.017751</td>\n      <td>1.307692</td>\n      <td>0.0</td>\n      <td>2.0</td>\n    </tr>\n    <tr>\n      <th>std</th>\n      <td>1.691829</td>\n      <td>0.723844</td>\n      <td>1.078622</td>\n      <td>1.462454</td>\n      <td>1.414985</td>\n      <td>2.052323</td>\n      <td>1.858020</td>\n      <td>1.755942</td>\n      <td>1.925932</td>\n      <td>1.990556</td>\n      <td>...</td>\n      <td>2.078466</td>\n      <td>1.899693</td>\n      <td>2.070894</td>\n      <td>2.114752</td>\n      <td>2.173980</td>\n      <td>2.695223</td>\n      <td>2.541263</td>\n      <td>1.511858</td>\n      <td>0.0</td>\n      <td>0.0</td>\n    </tr>\n    <tr>\n      <th>min</th>\n      <td>1.000000</td>\n      <td>1.000000</td>\n      <td>1.000000</td>\n      <td>0.000000</td>\n      <td>0.000000</td>\n      <td>0.000000</td>\n      <td>0.000000</td>\n      <td>0.000000</td>\n      <td>0.000000</td>\n      <td>0.000000</td>\n      <td>...</td>\n      <td>0.000000</td>\n      <td>0.000000</td>\n      <td>0.000000</td>\n      <td>0.000000</td>\n      <td>0.000000</td>\n      <td>0.000000</td>\n      <td>0.000000</td>\n      <td>0.000000</td>\n      <td>0.0</td>\n      <td>2.0</td>\n    </tr>\n    <tr>\n      <th>25%</th>\n      <td>3.000000</td>\n      <td>2.000000</td>\n      <td>2.000000</td>\n      <td>1.000000</td>\n      <td>1.000000</td>\n      <td>0.000000</td>\n      <td>0.000000</td>\n      <td>0.000000</td>\n      <td>0.000000</td>\n      <td>0.000000</td>\n      <td>...</td>\n      <td>0.000000</td>\n      <td>2.000000</td>\n      <td>0.000000</td>\n      <td>0.000000</td>\n      <td>0.000000</td>\n      <td>7.000000</td>\n      <td>2.000000</td>\n      <td>0.000000</td>\n      <td>0.0</td>\n      <td>2.0</td>\n    </tr>\n    <tr>\n      <th>50%</th>\n      <td>4.000000</td>\n      <td>2.000000</td>\n      <td>4.000000</td>\n      <td>2.000000</td>\n      <td>2.000000</td>\n      <td>2.000000</td>\n      <td>2.000000</td>\n      <td>1.000000</td>\n      <td>2.000000</td>\n      <td>2.000000</td>\n      <td>...</td>\n      <td>3.000000</td>\n      <td>4.000000</td>\n      <td>1.000000</td>\n      <td>3.000000</td>\n      <td>2.000000</td>\n      <td>9.000000</td>\n      <td>5.000000</td>\n      <td>1.000000</td>\n      <td>0.0</td>\n      <td>2.0</td>\n    </tr>\n    <tr>\n      <th>75%</th>\n      <td>5.000000</td>\n      <td>3.000000</td>\n      <td>4.000000</td>\n      <td>3.000000</td>\n      <td>4.000000</td>\n      <td>4.000000</td>\n      <td>4.000000</td>\n      <td>3.000000</td>\n      <td>4.000000</td>\n      <td>4.000000</td>\n      <td>...</td>\n      <td>4.000000</td>\n      <td>5.000000</td>\n      <td>4.000000</td>\n      <td>5.000000</td>\n      <td>4.000000</td>\n      <td>10.000000</td>\n      <td>6.000000</td>\n      <td>2.000000</td>\n      <td>0.0</td>\n      <td>2.0</td>\n    </tr>\n    <tr>\n      <th>max</th>\n      <td>7.000000</td>\n      <td>3.000000</td>\n      <td>4.000000</td>\n      <td>6.000000</td>\n      <td>4.000000</td>\n      <td>6.000000</td>\n      <td>6.000000</td>\n      <td>6.000000</td>\n      <td>6.000000</td>\n      <td>5.000000</td>\n      <td>...</td>\n      <td>5.000000</td>\n      <td>5.000000</td>\n      <td>6.000000</td>\n      <td>6.000000</td>\n      <td>6.000000</td>\n      <td>11.000000</td>\n      <td>7.000000</td>\n      <td>5.000000</td>\n      <td>0.0</td>\n      <td>2.0</td>\n    </tr>\n  </tbody>\n</table>\n<p>8 rows × 36 columns</p>\n</div>"
     },
     "execution_count": 173,
     "metadata": {},
     "output_type": "execute_result"
    }
   ],
   "source": [
    "data_2018_quantitative.loc[data_2018_quantitative['clusters'] == 0].describe()\n",
    "# Medium rating, medium size (997), the wealthiest, less willing to recommend"
   ],
   "metadata": {
    "collapsed": false,
    "pycharm": {
     "name": "#%%\n"
    }
   }
  },
  {
   "cell_type": "code",
   "execution_count": 174,
   "outputs": [
    {
     "data": {
      "text/plain": "              DAY      STRATA    DESTMARK  Q5TIMESFLOWN   Q6LONGUSE  \\\ncount  997.000000  997.000000  997.000000    997.000000  997.000000   \nmean     4.199599    2.193581    3.273821      2.562688    2.756269   \nstd      1.663233    0.766806    1.031748      1.464209    1.268151   \nmin      1.000000    1.000000    1.000000      0.000000    0.000000   \n25%      3.000000    2.000000    2.000000      1.000000    2.000000   \n50%      4.000000    2.000000    4.000000      3.000000    3.000000   \n75%      5.000000    3.000000    4.000000      3.000000    4.000000   \nmax      7.000000    3.000000    4.000000      6.000000    4.000000   \n\n            Q7ART      Q7FOOD     Q7STORE      Q7SIGN   Q7WALKWAY  ...  \\\ncount  997.000000  997.000000  997.000000  997.000000  997.000000  ...   \nmean     3.730191    3.244734    3.248746    3.542628    3.673019  ...   \nstd      1.278656    1.085818    1.110515    0.928919    0.874335  ...   \nmin      0.000000    0.000000    0.000000    0.000000    0.000000  ...   \n25%      3.000000    3.000000    3.000000    3.000000    3.000000  ...   \n50%      4.000000    3.000000    3.000000    4.000000    4.000000  ...   \n75%      4.000000    4.000000    4.000000    4.000000    4.000000  ...   \nmax      6.000000    6.000000    6.000000    6.000000    6.000000  ...   \n\n            Q9All     Q10Safe  Q13GETRATE    Q14FIND   Q14PASSTHRU  \\\ncount  997.000000  997.000000  997.000000  997.000000   997.000000   \nmean     3.681043    3.990973    3.310933    3.789368     3.446339   \nstd      0.890925    1.004467    1.677758    1.352436     1.598939   \nmin      0.000000    0.000000    0.000000    0.000000     0.000000   \n25%      3.000000    4.000000    3.000000    3.000000     3.000000   \n50%      4.000000    4.000000    4.000000    4.000000     4.000000   \n75%      4.000000    5.000000    5.000000    5.000000     5.000000   \nmax      6.000000    5.000000    6.000000    6.000000     6.000000   \n\n         NETPRO        Q20Age   Q22Income  clusters  clusters_2  \ncount  997.000000  997.000000  997.000000     997.0       997.0  \nmean     7.376128    3.968907    2.292879       1.0         0.0  \nstd      2.191154    1.824101    1.532931       0.0         0.0  \nmin      0.000000    0.000000    0.000000       1.0         0.0  \n25%      6.000000    3.000000    1.000000       1.0         0.0  \n50%      8.000000    4.000000    2.000000       1.0         0.0  \n75%      9.000000    5.000000    4.000000       1.0         0.0  \nmax     11.000000    7.000000    5.000000       1.0         0.0  \n\n[8 rows x 36 columns]",
      "text/html": "<div>\n<style scoped>\n    .dataframe tbody tr th:only-of-type {\n        vertical-align: middle;\n    }\n\n    .dataframe tbody tr th {\n        vertical-align: top;\n    }\n\n    .dataframe thead th {\n        text-align: right;\n    }\n</style>\n<table border=\"1\" class=\"dataframe\">\n  <thead>\n    <tr style=\"text-align: right;\">\n      <th></th>\n      <th>DAY</th>\n      <th>STRATA</th>\n      <th>DESTMARK</th>\n      <th>Q5TIMESFLOWN</th>\n      <th>Q6LONGUSE</th>\n      <th>Q7ART</th>\n      <th>Q7FOOD</th>\n      <th>Q7STORE</th>\n      <th>Q7SIGN</th>\n      <th>Q7WALKWAY</th>\n      <th>...</th>\n      <th>Q9All</th>\n      <th>Q10Safe</th>\n      <th>Q13GETRATE</th>\n      <th>Q14FIND</th>\n      <th>Q14PASSTHRU</th>\n      <th>NETPRO</th>\n      <th>Q20Age</th>\n      <th>Q22Income</th>\n      <th>clusters</th>\n      <th>clusters_2</th>\n    </tr>\n  </thead>\n  <tbody>\n    <tr>\n      <th>count</th>\n      <td>997.000000</td>\n      <td>997.000000</td>\n      <td>997.000000</td>\n      <td>997.000000</td>\n      <td>997.000000</td>\n      <td>997.000000</td>\n      <td>997.000000</td>\n      <td>997.000000</td>\n      <td>997.000000</td>\n      <td>997.000000</td>\n      <td>...</td>\n      <td>997.000000</td>\n      <td>997.000000</td>\n      <td>997.000000</td>\n      <td>997.000000</td>\n      <td>997.000000</td>\n      <td>997.000000</td>\n      <td>997.000000</td>\n      <td>997.000000</td>\n      <td>997.0</td>\n      <td>997.0</td>\n    </tr>\n    <tr>\n      <th>mean</th>\n      <td>4.199599</td>\n      <td>2.193581</td>\n      <td>3.273821</td>\n      <td>2.562688</td>\n      <td>2.756269</td>\n      <td>3.730191</td>\n      <td>3.244734</td>\n      <td>3.248746</td>\n      <td>3.542628</td>\n      <td>3.673019</td>\n      <td>...</td>\n      <td>3.681043</td>\n      <td>3.990973</td>\n      <td>3.310933</td>\n      <td>3.789368</td>\n      <td>3.446339</td>\n      <td>7.376128</td>\n      <td>3.968907</td>\n      <td>2.292879</td>\n      <td>1.0</td>\n      <td>0.0</td>\n    </tr>\n    <tr>\n      <th>std</th>\n      <td>1.663233</td>\n      <td>0.766806</td>\n      <td>1.031748</td>\n      <td>1.464209</td>\n      <td>1.268151</td>\n      <td>1.278656</td>\n      <td>1.085818</td>\n      <td>1.110515</td>\n      <td>0.928919</td>\n      <td>0.874335</td>\n      <td>...</td>\n      <td>0.890925</td>\n      <td>1.004467</td>\n      <td>1.677758</td>\n      <td>1.352436</td>\n      <td>1.598939</td>\n      <td>2.191154</td>\n      <td>1.824101</td>\n      <td>1.532931</td>\n      <td>0.0</td>\n      <td>0.0</td>\n    </tr>\n    <tr>\n      <th>min</th>\n      <td>1.000000</td>\n      <td>1.000000</td>\n      <td>1.000000</td>\n      <td>0.000000</td>\n      <td>0.000000</td>\n      <td>0.000000</td>\n      <td>0.000000</td>\n      <td>0.000000</td>\n      <td>0.000000</td>\n      <td>0.000000</td>\n      <td>...</td>\n      <td>0.000000</td>\n      <td>0.000000</td>\n      <td>0.000000</td>\n      <td>0.000000</td>\n      <td>0.000000</td>\n      <td>0.000000</td>\n      <td>0.000000</td>\n      <td>0.000000</td>\n      <td>1.0</td>\n      <td>0.0</td>\n    </tr>\n    <tr>\n      <th>25%</th>\n      <td>3.000000</td>\n      <td>2.000000</td>\n      <td>2.000000</td>\n      <td>1.000000</td>\n      <td>2.000000</td>\n      <td>3.000000</td>\n      <td>3.000000</td>\n      <td>3.000000</td>\n      <td>3.000000</td>\n      <td>3.000000</td>\n      <td>...</td>\n      <td>3.000000</td>\n      <td>4.000000</td>\n      <td>3.000000</td>\n      <td>3.000000</td>\n      <td>3.000000</td>\n      <td>6.000000</td>\n      <td>3.000000</td>\n      <td>1.000000</td>\n      <td>1.0</td>\n      <td>0.0</td>\n    </tr>\n    <tr>\n      <th>50%</th>\n      <td>4.000000</td>\n      <td>2.000000</td>\n      <td>4.000000</td>\n      <td>3.000000</td>\n      <td>3.000000</td>\n      <td>4.000000</td>\n      <td>3.000000</td>\n      <td>3.000000</td>\n      <td>4.000000</td>\n      <td>4.000000</td>\n      <td>...</td>\n      <td>4.000000</td>\n      <td>4.000000</td>\n      <td>4.000000</td>\n      <td>4.000000</td>\n      <td>4.000000</td>\n      <td>8.000000</td>\n      <td>4.000000</td>\n      <td>2.000000</td>\n      <td>1.0</td>\n      <td>0.0</td>\n    </tr>\n    <tr>\n      <th>75%</th>\n      <td>5.000000</td>\n      <td>3.000000</td>\n      <td>4.000000</td>\n      <td>3.000000</td>\n      <td>4.000000</td>\n      <td>4.000000</td>\n      <td>4.000000</td>\n      <td>4.000000</td>\n      <td>4.000000</td>\n      <td>4.000000</td>\n      <td>...</td>\n      <td>4.000000</td>\n      <td>5.000000</td>\n      <td>5.000000</td>\n      <td>5.000000</td>\n      <td>5.000000</td>\n      <td>9.000000</td>\n      <td>5.000000</td>\n      <td>4.000000</td>\n      <td>1.0</td>\n      <td>0.0</td>\n    </tr>\n    <tr>\n      <th>max</th>\n      <td>7.000000</td>\n      <td>3.000000</td>\n      <td>4.000000</td>\n      <td>6.000000</td>\n      <td>4.000000</td>\n      <td>6.000000</td>\n      <td>6.000000</td>\n      <td>6.000000</td>\n      <td>6.000000</td>\n      <td>6.000000</td>\n      <td>...</td>\n      <td>6.000000</td>\n      <td>5.000000</td>\n      <td>6.000000</td>\n      <td>6.000000</td>\n      <td>6.000000</td>\n      <td>11.000000</td>\n      <td>7.000000</td>\n      <td>5.000000</td>\n      <td>1.0</td>\n      <td>0.0</td>\n    </tr>\n  </tbody>\n</table>\n<p>8 rows × 36 columns</p>\n</div>"
     },
     "execution_count": 174,
     "metadata": {},
     "output_type": "execute_result"
    }
   ],
   "source": [
    "data_2018_quantitative.loc[data_2018_quantitative['clusters'] == 1].describe()\n",
    "# High rating, the largest (1643)"
   ],
   "metadata": {
    "collapsed": false,
    "pycharm": {
     "name": "#%%\n"
    }
   }
  },
  {
   "cell_type": "code",
   "execution_count": 175,
   "outputs": [
    {
     "data": {
      "text/plain": "              DAY       STRATA     DESTMARK  Q5TIMESFLOWN    Q6LONGUSE  \\\ncount  1643.00000  1643.000000  1643.000000   1643.000000  1643.000000   \nmean      4.08521     2.118077     3.189897      2.055995     2.477176   \nstd       1.71048     0.793968     1.088292      1.226198     1.295522   \nmin       1.00000     1.000000     1.000000      0.000000     0.000000   \n25%       3.00000     1.000000     2.000000      1.000000     1.000000   \n50%       4.00000     2.000000     4.000000      2.000000     2.000000   \n75%       5.00000     3.000000     4.000000      3.000000     4.000000   \nmax       7.00000     3.000000     4.000000      6.000000     4.000000   \n\n             Q7ART       Q7FOOD      Q7STORE       Q7SIGN    Q7WALKWAY  ...  \\\ncount  1643.000000  1643.000000  1643.000000  1643.000000  1643.000000  ...   \nmean      4.646987     4.270237     4.270237     4.379184     4.560560  ...   \nstd       1.103988     1.172673     1.232432     0.840063     0.842219  ...   \nmin       0.000000     0.000000     0.000000     0.000000     0.000000  ...   \n25%       4.000000     3.000000     3.000000     4.000000     4.000000  ...   \n50%       5.000000     4.000000     4.000000     4.000000     5.000000  ...   \n75%       6.000000     5.000000     5.000000     5.000000     5.000000  ...   \nmax       6.000000     6.000000     6.000000     6.000000     6.000000  ...   \n\n             Q9All      Q10Safe   Q13GETRATE     Q14FIND   Q14PASSTHRU  \\\ncount  1643.000000  1643.000000  1643.000000  1643.000000  1643.000000   \nmean      4.431528     4.530736     4.066342     4.603165     4.371272   \nstd       0.715688     0.757101     1.554877     0.904470     1.315495   \nmin       0.000000     0.000000     0.000000     0.000000     0.000000   \n25%       4.000000     4.000000     4.000000     4.000000     4.000000   \n50%       5.000000     5.000000     5.000000     5.000000     5.000000   \n75%       5.000000     5.000000     5.000000     5.000000     5.000000   \nmax       6.000000     5.000000     6.000000     6.000000     6.000000   \n\n          NETPRO         Q20Age    Q22Income  clusters  clusters_2  \ncount  1643.000000  1643.000000  1643.000000    1643.0      1643.0  \nmean      8.768107     4.094948     1.973828       2.0         1.0  \nstd       1.624015     1.804918     1.434709       0.0         0.0  \nmin       0.000000     0.000000     0.000000       2.0         1.0  \n25%       8.000000     3.000000     1.000000       2.0         1.0  \n50%       9.000000     4.000000     2.000000       2.0         1.0  \n75%      10.000000     6.000000     3.000000       2.0         1.0  \nmax      11.000000     7.000000     5.000000       2.0         1.0  \n\n[8 rows x 36 columns]",
      "text/html": "<div>\n<style scoped>\n    .dataframe tbody tr th:only-of-type {\n        vertical-align: middle;\n    }\n\n    .dataframe tbody tr th {\n        vertical-align: top;\n    }\n\n    .dataframe thead th {\n        text-align: right;\n    }\n</style>\n<table border=\"1\" class=\"dataframe\">\n  <thead>\n    <tr style=\"text-align: right;\">\n      <th></th>\n      <th>DAY</th>\n      <th>STRATA</th>\n      <th>DESTMARK</th>\n      <th>Q5TIMESFLOWN</th>\n      <th>Q6LONGUSE</th>\n      <th>Q7ART</th>\n      <th>Q7FOOD</th>\n      <th>Q7STORE</th>\n      <th>Q7SIGN</th>\n      <th>Q7WALKWAY</th>\n      <th>...</th>\n      <th>Q9All</th>\n      <th>Q10Safe</th>\n      <th>Q13GETRATE</th>\n      <th>Q14FIND</th>\n      <th>Q14PASSTHRU</th>\n      <th>NETPRO</th>\n      <th>Q20Age</th>\n      <th>Q22Income</th>\n      <th>clusters</th>\n      <th>clusters_2</th>\n    </tr>\n  </thead>\n  <tbody>\n    <tr>\n      <th>count</th>\n      <td>1643.00000</td>\n      <td>1643.000000</td>\n      <td>1643.000000</td>\n      <td>1643.000000</td>\n      <td>1643.000000</td>\n      <td>1643.000000</td>\n      <td>1643.000000</td>\n      <td>1643.000000</td>\n      <td>1643.000000</td>\n      <td>1643.000000</td>\n      <td>...</td>\n      <td>1643.000000</td>\n      <td>1643.000000</td>\n      <td>1643.000000</td>\n      <td>1643.000000</td>\n      <td>1643.000000</td>\n      <td>1643.000000</td>\n      <td>1643.000000</td>\n      <td>1643.000000</td>\n      <td>1643.0</td>\n      <td>1643.0</td>\n    </tr>\n    <tr>\n      <th>mean</th>\n      <td>4.08521</td>\n      <td>2.118077</td>\n      <td>3.189897</td>\n      <td>2.055995</td>\n      <td>2.477176</td>\n      <td>4.646987</td>\n      <td>4.270237</td>\n      <td>4.270237</td>\n      <td>4.379184</td>\n      <td>4.560560</td>\n      <td>...</td>\n      <td>4.431528</td>\n      <td>4.530736</td>\n      <td>4.066342</td>\n      <td>4.603165</td>\n      <td>4.371272</td>\n      <td>8.768107</td>\n      <td>4.094948</td>\n      <td>1.973828</td>\n      <td>2.0</td>\n      <td>1.0</td>\n    </tr>\n    <tr>\n      <th>std</th>\n      <td>1.71048</td>\n      <td>0.793968</td>\n      <td>1.088292</td>\n      <td>1.226198</td>\n      <td>1.295522</td>\n      <td>1.103988</td>\n      <td>1.172673</td>\n      <td>1.232432</td>\n      <td>0.840063</td>\n      <td>0.842219</td>\n      <td>...</td>\n      <td>0.715688</td>\n      <td>0.757101</td>\n      <td>1.554877</td>\n      <td>0.904470</td>\n      <td>1.315495</td>\n      <td>1.624015</td>\n      <td>1.804918</td>\n      <td>1.434709</td>\n      <td>0.0</td>\n      <td>0.0</td>\n    </tr>\n    <tr>\n      <th>min</th>\n      <td>1.00000</td>\n      <td>1.000000</td>\n      <td>1.000000</td>\n      <td>0.000000</td>\n      <td>0.000000</td>\n      <td>0.000000</td>\n      <td>0.000000</td>\n      <td>0.000000</td>\n      <td>0.000000</td>\n      <td>0.000000</td>\n      <td>...</td>\n      <td>0.000000</td>\n      <td>0.000000</td>\n      <td>0.000000</td>\n      <td>0.000000</td>\n      <td>0.000000</td>\n      <td>0.000000</td>\n      <td>0.000000</td>\n      <td>0.000000</td>\n      <td>2.0</td>\n      <td>1.0</td>\n    </tr>\n    <tr>\n      <th>25%</th>\n      <td>3.00000</td>\n      <td>1.000000</td>\n      <td>2.000000</td>\n      <td>1.000000</td>\n      <td>1.000000</td>\n      <td>4.000000</td>\n      <td>3.000000</td>\n      <td>3.000000</td>\n      <td>4.000000</td>\n      <td>4.000000</td>\n      <td>...</td>\n      <td>4.000000</td>\n      <td>4.000000</td>\n      <td>4.000000</td>\n      <td>4.000000</td>\n      <td>4.000000</td>\n      <td>8.000000</td>\n      <td>3.000000</td>\n      <td>1.000000</td>\n      <td>2.0</td>\n      <td>1.0</td>\n    </tr>\n    <tr>\n      <th>50%</th>\n      <td>4.00000</td>\n      <td>2.000000</td>\n      <td>4.000000</td>\n      <td>2.000000</td>\n      <td>2.000000</td>\n      <td>5.000000</td>\n      <td>4.000000</td>\n      <td>4.000000</td>\n      <td>4.000000</td>\n      <td>5.000000</td>\n      <td>...</td>\n      <td>5.000000</td>\n      <td>5.000000</td>\n      <td>5.000000</td>\n      <td>5.000000</td>\n      <td>5.000000</td>\n      <td>9.000000</td>\n      <td>4.000000</td>\n      <td>2.000000</td>\n      <td>2.0</td>\n      <td>1.0</td>\n    </tr>\n    <tr>\n      <th>75%</th>\n      <td>5.00000</td>\n      <td>3.000000</td>\n      <td>4.000000</td>\n      <td>3.000000</td>\n      <td>4.000000</td>\n      <td>6.000000</td>\n      <td>5.000000</td>\n      <td>5.000000</td>\n      <td>5.000000</td>\n      <td>5.000000</td>\n      <td>...</td>\n      <td>5.000000</td>\n      <td>5.000000</td>\n      <td>5.000000</td>\n      <td>5.000000</td>\n      <td>5.000000</td>\n      <td>10.000000</td>\n      <td>6.000000</td>\n      <td>3.000000</td>\n      <td>2.0</td>\n      <td>1.0</td>\n    </tr>\n    <tr>\n      <th>max</th>\n      <td>7.00000</td>\n      <td>3.000000</td>\n      <td>4.000000</td>\n      <td>6.000000</td>\n      <td>4.000000</td>\n      <td>6.000000</td>\n      <td>6.000000</td>\n      <td>6.000000</td>\n      <td>6.000000</td>\n      <td>6.000000</td>\n      <td>...</td>\n      <td>6.000000</td>\n      <td>5.000000</td>\n      <td>6.000000</td>\n      <td>6.000000</td>\n      <td>6.000000</td>\n      <td>11.000000</td>\n      <td>7.000000</td>\n      <td>5.000000</td>\n      <td>2.0</td>\n      <td>1.0</td>\n    </tr>\n  </tbody>\n</table>\n<p>8 rows × 36 columns</p>\n</div>"
     },
     "execution_count": 175,
     "metadata": {},
     "output_type": "execute_result"
    }
   ],
   "source": [
    "data_2018_quantitative.loc[data_2018_quantitative['clusters'] == 2].describe()\n",
    "# Low rating, the smallest (169),"
   ],
   "metadata": {
    "collapsed": false,
    "pycharm": {
     "name": "#%%\n"
    }
   }
  },
  {
   "cell_type": "markdown",
   "metadata": {},
   "source": [
    "### Second trial of k-means - weights"
   ]
  },
  {
   "cell_type": "code",
   "execution_count": 176,
   "metadata": {
    "pycharm": {
     "name": "#%%\n"
    }
   },
   "outputs": [
    {
     "name": "stderr",
     "output_type": "stream",
     "text": [
      "c:\\users\\alicj\\appdata\\local\\programs\\python\\python38\\lib\\site-packages\\sklearn\\cluster\\_kmeans.py:1412: FutureWarning: The default value of `n_init` will change from 10 to 'auto' in 1.4. Set the value of `n_init` explicitly to suppress the warning\n",
      "  super()._check_params_vs_input(X, default_n_init=10)\n"
     ]
    },
    {
     "data": {
      "text/plain": "KMeans(n_clusters=3)",
      "text/html": "<style>#sk-container-id-5 {color: black;}#sk-container-id-5 pre{padding: 0;}#sk-container-id-5 div.sk-toggleable {background-color: white;}#sk-container-id-5 label.sk-toggleable__label {cursor: pointer;display: block;width: 100%;margin-bottom: 0;padding: 0.3em;box-sizing: border-box;text-align: center;}#sk-container-id-5 label.sk-toggleable__label-arrow:before {content: \"▸\";float: left;margin-right: 0.25em;color: #696969;}#sk-container-id-5 label.sk-toggleable__label-arrow:hover:before {color: black;}#sk-container-id-5 div.sk-estimator:hover label.sk-toggleable__label-arrow:before {color: black;}#sk-container-id-5 div.sk-toggleable__content {max-height: 0;max-width: 0;overflow: hidden;text-align: left;background-color: #f0f8ff;}#sk-container-id-5 div.sk-toggleable__content pre {margin: 0.2em;color: black;border-radius: 0.25em;background-color: #f0f8ff;}#sk-container-id-5 input.sk-toggleable__control:checked~div.sk-toggleable__content {max-height: 200px;max-width: 100%;overflow: auto;}#sk-container-id-5 input.sk-toggleable__control:checked~label.sk-toggleable__label-arrow:before {content: \"▾\";}#sk-container-id-5 div.sk-estimator input.sk-toggleable__control:checked~label.sk-toggleable__label {background-color: #d4ebff;}#sk-container-id-5 div.sk-label input.sk-toggleable__control:checked~label.sk-toggleable__label {background-color: #d4ebff;}#sk-container-id-5 input.sk-hidden--visually {border: 0;clip: rect(1px 1px 1px 1px);clip: rect(1px, 1px, 1px, 1px);height: 1px;margin: -1px;overflow: hidden;padding: 0;position: absolute;width: 1px;}#sk-container-id-5 div.sk-estimator {font-family: monospace;background-color: #f0f8ff;border: 1px dotted black;border-radius: 0.25em;box-sizing: border-box;margin-bottom: 0.5em;}#sk-container-id-5 div.sk-estimator:hover {background-color: #d4ebff;}#sk-container-id-5 div.sk-parallel-item::after {content: \"\";width: 100%;border-bottom: 1px solid gray;flex-grow: 1;}#sk-container-id-5 div.sk-label:hover label.sk-toggleable__label {background-color: #d4ebff;}#sk-container-id-5 div.sk-serial::before {content: \"\";position: absolute;border-left: 1px solid gray;box-sizing: border-box;top: 0;bottom: 0;left: 50%;z-index: 0;}#sk-container-id-5 div.sk-serial {display: flex;flex-direction: column;align-items: center;background-color: white;padding-right: 0.2em;padding-left: 0.2em;position: relative;}#sk-container-id-5 div.sk-item {position: relative;z-index: 1;}#sk-container-id-5 div.sk-parallel {display: flex;align-items: stretch;justify-content: center;background-color: white;position: relative;}#sk-container-id-5 div.sk-item::before, #sk-container-id-5 div.sk-parallel-item::before {content: \"\";position: absolute;border-left: 1px solid gray;box-sizing: border-box;top: 0;bottom: 0;left: 50%;z-index: -1;}#sk-container-id-5 div.sk-parallel-item {display: flex;flex-direction: column;z-index: 1;position: relative;background-color: white;}#sk-container-id-5 div.sk-parallel-item:first-child::after {align-self: flex-end;width: 50%;}#sk-container-id-5 div.sk-parallel-item:last-child::after {align-self: flex-start;width: 50%;}#sk-container-id-5 div.sk-parallel-item:only-child::after {width: 0;}#sk-container-id-5 div.sk-dashed-wrapped {border: 1px dashed gray;margin: 0 0.4em 0.5em 0.4em;box-sizing: border-box;padding-bottom: 0.4em;background-color: white;}#sk-container-id-5 div.sk-label label {font-family: monospace;font-weight: bold;display: inline-block;line-height: 1.2em;}#sk-container-id-5 div.sk-label-container {text-align: center;}#sk-container-id-5 div.sk-container {/* jupyter's `normalize.less` sets `[hidden] { display: none; }` but bootstrap.min.css set `[hidden] { display: none !important; }` so we also need the `!important` here to be able to override the default hidden behavior on the sphinx rendered scikit-learn.org. See: https://github.com/scikit-learn/scikit-learn/issues/21755 */display: inline-block !important;position: relative;}#sk-container-id-5 div.sk-text-repr-fallback {display: none;}</style><div id=\"sk-container-id-5\" class=\"sk-top-container\"><div class=\"sk-text-repr-fallback\"><pre>KMeans(n_clusters=3)</pre><b>In a Jupyter environment, please rerun this cell to show the HTML representation or trust the notebook. <br />On GitHub, the HTML representation is unable to render, please try loading this page with nbviewer.org.</b></div><div class=\"sk-container\" hidden><div class=\"sk-item\"><div class=\"sk-estimator sk-toggleable\"><input class=\"sk-toggleable__control sk-hidden--visually\" id=\"sk-estimator-id-5\" type=\"checkbox\" checked><label for=\"sk-estimator-id-5\" class=\"sk-toggleable__label sk-toggleable__label-arrow\">KMeans</label><div class=\"sk-toggleable__content\"><pre>KMeans(n_clusters=3)</pre></div></div></div></div></div>"
     },
     "execution_count": 176,
     "metadata": {},
     "output_type": "execute_result"
    }
   ],
   "source": [
    "kmeans_model = KMeans(n_clusters = 3)\n",
    "\n",
    "kmeans_model.fit(scaled_data, sample_weight=data_2018['WEIGHT'])"
   ]
  },
  {
   "cell_type": "code",
   "execution_count": 177,
   "outputs": [
    {
     "name": "stderr",
     "output_type": "stream",
     "text": [
      "<ipython-input-177-72c7e41889fb>:1: SettingWithCopyWarning: \n",
      "A value is trying to be set on a copy of a slice from a DataFrame.\n",
      "Try using .loc[row_indexer,col_indexer] = value instead\n",
      "\n",
      "See the caveats in the documentation: https://pandas.pydata.org/pandas-docs/stable/user_guide/indexing.html#returning-a-view-versus-a-copy\n",
      "  data_2018_quantitative['clusters_2'] = kmeans_model.labels_\n"
     ]
    },
    {
     "data": {
      "text/plain": "   DAY  STRATA  DESTMARK  Q5TIMESFLOWN  Q6LONGUSE  Q7ART  Q7FOOD  Q7STORE  \\\n0    2       3         4             2          1      6       6        3   \n1    2       3         4             1          1      6       3        4   \n2    2       3         4             1          3      3       6        4   \n3    2       3         4             2          0      0       4        4   \n4    2       3         4             3          2      0       0        0   \n\n   Q7SIGN  Q7WALKWAY  ...  Q9All  Q10Safe  Q13GETRATE  Q14FIND   Q14PASSTHRU  \\\n0       4          4  ...      3        3           5         4            3   \n1       4          4  ...      4        4           4         4            3   \n2       4          6  ...      3        4           4         5            3   \n3       4          5  ...      4        4           0         0            0   \n4       0          0  ...      5        3           3         3            3   \n\n   NETPRO    Q20Age  Q22Income  clusters  clusters_2  \n0         5       6          0         2           1  \n1         7       4          2         2           1  \n2         7       5          5         2           1  \n3         8       2          3         0           0  \n4         8       2          2         0           0  \n\n[5 rows x 36 columns]",
      "text/html": "<div>\n<style scoped>\n    .dataframe tbody tr th:only-of-type {\n        vertical-align: middle;\n    }\n\n    .dataframe tbody tr th {\n        vertical-align: top;\n    }\n\n    .dataframe thead th {\n        text-align: right;\n    }\n</style>\n<table border=\"1\" class=\"dataframe\">\n  <thead>\n    <tr style=\"text-align: right;\">\n      <th></th>\n      <th>DAY</th>\n      <th>STRATA</th>\n      <th>DESTMARK</th>\n      <th>Q5TIMESFLOWN</th>\n      <th>Q6LONGUSE</th>\n      <th>Q7ART</th>\n      <th>Q7FOOD</th>\n      <th>Q7STORE</th>\n      <th>Q7SIGN</th>\n      <th>Q7WALKWAY</th>\n      <th>...</th>\n      <th>Q9All</th>\n      <th>Q10Safe</th>\n      <th>Q13GETRATE</th>\n      <th>Q14FIND</th>\n      <th>Q14PASSTHRU</th>\n      <th>NETPRO</th>\n      <th>Q20Age</th>\n      <th>Q22Income</th>\n      <th>clusters</th>\n      <th>clusters_2</th>\n    </tr>\n  </thead>\n  <tbody>\n    <tr>\n      <th>0</th>\n      <td>2</td>\n      <td>3</td>\n      <td>4</td>\n      <td>2</td>\n      <td>1</td>\n      <td>6</td>\n      <td>6</td>\n      <td>3</td>\n      <td>4</td>\n      <td>4</td>\n      <td>...</td>\n      <td>3</td>\n      <td>3</td>\n      <td>5</td>\n      <td>4</td>\n      <td>3</td>\n      <td>5</td>\n      <td>6</td>\n      <td>0</td>\n      <td>2</td>\n      <td>1</td>\n    </tr>\n    <tr>\n      <th>1</th>\n      <td>2</td>\n      <td>3</td>\n      <td>4</td>\n      <td>1</td>\n      <td>1</td>\n      <td>6</td>\n      <td>3</td>\n      <td>4</td>\n      <td>4</td>\n      <td>4</td>\n      <td>...</td>\n      <td>4</td>\n      <td>4</td>\n      <td>4</td>\n      <td>4</td>\n      <td>3</td>\n      <td>7</td>\n      <td>4</td>\n      <td>2</td>\n      <td>2</td>\n      <td>1</td>\n    </tr>\n    <tr>\n      <th>2</th>\n      <td>2</td>\n      <td>3</td>\n      <td>4</td>\n      <td>1</td>\n      <td>3</td>\n      <td>3</td>\n      <td>6</td>\n      <td>4</td>\n      <td>4</td>\n      <td>6</td>\n      <td>...</td>\n      <td>3</td>\n      <td>4</td>\n      <td>4</td>\n      <td>5</td>\n      <td>3</td>\n      <td>7</td>\n      <td>5</td>\n      <td>5</td>\n      <td>2</td>\n      <td>1</td>\n    </tr>\n    <tr>\n      <th>3</th>\n      <td>2</td>\n      <td>3</td>\n      <td>4</td>\n      <td>2</td>\n      <td>0</td>\n      <td>0</td>\n      <td>4</td>\n      <td>4</td>\n      <td>4</td>\n      <td>5</td>\n      <td>...</td>\n      <td>4</td>\n      <td>4</td>\n      <td>0</td>\n      <td>0</td>\n      <td>0</td>\n      <td>8</td>\n      <td>2</td>\n      <td>3</td>\n      <td>0</td>\n      <td>0</td>\n    </tr>\n    <tr>\n      <th>4</th>\n      <td>2</td>\n      <td>3</td>\n      <td>4</td>\n      <td>3</td>\n      <td>2</td>\n      <td>0</td>\n      <td>0</td>\n      <td>0</td>\n      <td>0</td>\n      <td>0</td>\n      <td>...</td>\n      <td>5</td>\n      <td>3</td>\n      <td>3</td>\n      <td>3</td>\n      <td>3</td>\n      <td>8</td>\n      <td>2</td>\n      <td>2</td>\n      <td>0</td>\n      <td>0</td>\n    </tr>\n  </tbody>\n</table>\n<p>5 rows × 36 columns</p>\n</div>"
     },
     "execution_count": 177,
     "metadata": {},
     "output_type": "execute_result"
    }
   ],
   "source": [
    "data_2018_quantitative['clusters_2'] = kmeans_model.labels_\n",
    "\n",
    "data_2018_quantitative.head()"
   ],
   "metadata": {
    "collapsed": false,
    "pycharm": {
     "name": "#%%\n"
    }
   }
  },
  {
   "cell_type": "code",
   "execution_count": 187,
   "outputs": [
    {
     "name": "stderr",
     "output_type": "stream",
     "text": [
      "<ipython-input-187-0e199b7a89d9>:1: SettingWithCopyWarning: \n",
      "A value is trying to be set on a copy of a slice from a DataFrame.\n",
      "Try using .loc[row_indexer,col_indexer] = value instead\n",
      "\n",
      "See the caveats in the documentation: https://pandas.pydata.org/pandas-docs/stable/user_guide/indexing.html#returning-a-view-versus-a-copy\n",
      "  data_2018_quantitative['clusters_2'] = data_2018_quantitative['clusters_2'].replace(1, 12)\n",
      "<ipython-input-187-0e199b7a89d9>:2: SettingWithCopyWarning: \n",
      "A value is trying to be set on a copy of a slice from a DataFrame.\n",
      "Try using .loc[row_indexer,col_indexer] = value instead\n",
      "\n",
      "See the caveats in the documentation: https://pandas.pydata.org/pandas-docs/stable/user_guide/indexing.html#returning-a-view-versus-a-copy\n",
      "  data_2018_quantitative['clusters_2'] = data_2018_quantitative['clusters_2'].replace(2, 1)\n",
      "<ipython-input-187-0e199b7a89d9>:3: SettingWithCopyWarning: \n",
      "A value is trying to be set on a copy of a slice from a DataFrame.\n",
      "Try using .loc[row_indexer,col_indexer] = value instead\n",
      "\n",
      "See the caveats in the documentation: https://pandas.pydata.org/pandas-docs/stable/user_guide/indexing.html#returning-a-view-versus-a-copy\n",
      "  data_2018_quantitative['clusters_2'] = data_2018_quantitative['clusters_2'].replace(12, 2)\n"
     ]
    },
    {
     "data": {
      "text/plain": "Empty DataFrame\nColumns: [self, other]\nIndex: []",
      "text/html": "<div>\n<style scoped>\n    .dataframe tbody tr th:only-of-type {\n        vertical-align: middle;\n    }\n\n    .dataframe tbody tr th {\n        vertical-align: top;\n    }\n\n    .dataframe thead th {\n        text-align: right;\n    }\n</style>\n<table border=\"1\" class=\"dataframe\">\n  <thead>\n    <tr style=\"text-align: right;\">\n      <th></th>\n      <th>self</th>\n      <th>other</th>\n    </tr>\n  </thead>\n  <tbody>\n  </tbody>\n</table>\n</div>"
     },
     "execution_count": 187,
     "metadata": {},
     "output_type": "execute_result"
    }
   ],
   "source": [
    "data_2018_quantitative['clusters_2'] = data_2018_quantitative['clusters_2'].replace(1, 12)\n",
    "data_2018_quantitative['clusters_2'] = data_2018_quantitative['clusters_2'].replace(2, 1)\n",
    "data_2018_quantitative['clusters_2'] = data_2018_quantitative['clusters_2'].replace(12, 2)\n",
    "data_2018_quantitative['clusters'].compare(data_2018_quantitative['clusters_2'])\n",
    "# Adding weight changes nothing"
   ],
   "metadata": {
    "collapsed": false,
    "pycharm": {
     "name": "#%%\n"
    }
   }
  },
  {
   "cell_type": "markdown",
   "source": [
    "### Third trail - 2 clusters"
   ],
   "metadata": {
    "collapsed": false
   }
  },
  {
   "cell_type": "code",
   "execution_count": 188,
   "outputs": [
    {
     "name": "stderr",
     "output_type": "stream",
     "text": [
      "c:\\users\\alicj\\appdata\\local\\programs\\python\\python38\\lib\\site-packages\\sklearn\\cluster\\_kmeans.py:1412: FutureWarning: The default value of `n_init` will change from 10 to 'auto' in 1.4. Set the value of `n_init` explicitly to suppress the warning\n",
      "  super()._check_params_vs_input(X, default_n_init=10)\n"
     ]
    },
    {
     "data": {
      "text/plain": "KMeans(n_clusters=2)",
      "text/html": "<style>#sk-container-id-6 {color: black;}#sk-container-id-6 pre{padding: 0;}#sk-container-id-6 div.sk-toggleable {background-color: white;}#sk-container-id-6 label.sk-toggleable__label {cursor: pointer;display: block;width: 100%;margin-bottom: 0;padding: 0.3em;box-sizing: border-box;text-align: center;}#sk-container-id-6 label.sk-toggleable__label-arrow:before {content: \"▸\";float: left;margin-right: 0.25em;color: #696969;}#sk-container-id-6 label.sk-toggleable__label-arrow:hover:before {color: black;}#sk-container-id-6 div.sk-estimator:hover label.sk-toggleable__label-arrow:before {color: black;}#sk-container-id-6 div.sk-toggleable__content {max-height: 0;max-width: 0;overflow: hidden;text-align: left;background-color: #f0f8ff;}#sk-container-id-6 div.sk-toggleable__content pre {margin: 0.2em;color: black;border-radius: 0.25em;background-color: #f0f8ff;}#sk-container-id-6 input.sk-toggleable__control:checked~div.sk-toggleable__content {max-height: 200px;max-width: 100%;overflow: auto;}#sk-container-id-6 input.sk-toggleable__control:checked~label.sk-toggleable__label-arrow:before {content: \"▾\";}#sk-container-id-6 div.sk-estimator input.sk-toggleable__control:checked~label.sk-toggleable__label {background-color: #d4ebff;}#sk-container-id-6 div.sk-label input.sk-toggleable__control:checked~label.sk-toggleable__label {background-color: #d4ebff;}#sk-container-id-6 input.sk-hidden--visually {border: 0;clip: rect(1px 1px 1px 1px);clip: rect(1px, 1px, 1px, 1px);height: 1px;margin: -1px;overflow: hidden;padding: 0;position: absolute;width: 1px;}#sk-container-id-6 div.sk-estimator {font-family: monospace;background-color: #f0f8ff;border: 1px dotted black;border-radius: 0.25em;box-sizing: border-box;margin-bottom: 0.5em;}#sk-container-id-6 div.sk-estimator:hover {background-color: #d4ebff;}#sk-container-id-6 div.sk-parallel-item::after {content: \"\";width: 100%;border-bottom: 1px solid gray;flex-grow: 1;}#sk-container-id-6 div.sk-label:hover label.sk-toggleable__label {background-color: #d4ebff;}#sk-container-id-6 div.sk-serial::before {content: \"\";position: absolute;border-left: 1px solid gray;box-sizing: border-box;top: 0;bottom: 0;left: 50%;z-index: 0;}#sk-container-id-6 div.sk-serial {display: flex;flex-direction: column;align-items: center;background-color: white;padding-right: 0.2em;padding-left: 0.2em;position: relative;}#sk-container-id-6 div.sk-item {position: relative;z-index: 1;}#sk-container-id-6 div.sk-parallel {display: flex;align-items: stretch;justify-content: center;background-color: white;position: relative;}#sk-container-id-6 div.sk-item::before, #sk-container-id-6 div.sk-parallel-item::before {content: \"\";position: absolute;border-left: 1px solid gray;box-sizing: border-box;top: 0;bottom: 0;left: 50%;z-index: -1;}#sk-container-id-6 div.sk-parallel-item {display: flex;flex-direction: column;z-index: 1;position: relative;background-color: white;}#sk-container-id-6 div.sk-parallel-item:first-child::after {align-self: flex-end;width: 50%;}#sk-container-id-6 div.sk-parallel-item:last-child::after {align-self: flex-start;width: 50%;}#sk-container-id-6 div.sk-parallel-item:only-child::after {width: 0;}#sk-container-id-6 div.sk-dashed-wrapped {border: 1px dashed gray;margin: 0 0.4em 0.5em 0.4em;box-sizing: border-box;padding-bottom: 0.4em;background-color: white;}#sk-container-id-6 div.sk-label label {font-family: monospace;font-weight: bold;display: inline-block;line-height: 1.2em;}#sk-container-id-6 div.sk-label-container {text-align: center;}#sk-container-id-6 div.sk-container {/* jupyter's `normalize.less` sets `[hidden] { display: none; }` but bootstrap.min.css set `[hidden] { display: none !important; }` so we also need the `!important` here to be able to override the default hidden behavior on the sphinx rendered scikit-learn.org. See: https://github.com/scikit-learn/scikit-learn/issues/21755 */display: inline-block !important;position: relative;}#sk-container-id-6 div.sk-text-repr-fallback {display: none;}</style><div id=\"sk-container-id-6\" class=\"sk-top-container\"><div class=\"sk-text-repr-fallback\"><pre>KMeans(n_clusters=2)</pre><b>In a Jupyter environment, please rerun this cell to show the HTML representation or trust the notebook. <br />On GitHub, the HTML representation is unable to render, please try loading this page with nbviewer.org.</b></div><div class=\"sk-container\" hidden><div class=\"sk-item\"><div class=\"sk-estimator sk-toggleable\"><input class=\"sk-toggleable__control sk-hidden--visually\" id=\"sk-estimator-id-6\" type=\"checkbox\" checked><label for=\"sk-estimator-id-6\" class=\"sk-toggleable__label sk-toggleable__label-arrow\">KMeans</label><div class=\"sk-toggleable__content\"><pre>KMeans(n_clusters=2)</pre></div></div></div></div></div>"
     },
     "execution_count": 188,
     "metadata": {},
     "output_type": "execute_result"
    }
   ],
   "source": [
    "kmeans_model = KMeans(n_clusters = 2)\n",
    "\n",
    "kmeans_model.fit(scaled_data, sample_weight=data_2018['WEIGHT'])"
   ],
   "metadata": {
    "collapsed": false,
    "pycharm": {
     "name": "#%%\n"
    }
   }
  },
  {
   "cell_type": "code",
   "execution_count": 189,
   "outputs": [
    {
     "name": "stderr",
     "output_type": "stream",
     "text": [
      "<ipython-input-189-5be666a77c7a>:1: SettingWithCopyWarning: \n",
      "A value is trying to be set on a copy of a slice from a DataFrame.\n",
      "Try using .loc[row_indexer,col_indexer] = value instead\n",
      "\n",
      "See the caveats in the documentation: https://pandas.pydata.org/pandas-docs/stable/user_guide/indexing.html#returning-a-view-versus-a-copy\n",
      "  data_2018_quantitative['clusters_3'] = kmeans_model.labels_\n"
     ]
    },
    {
     "data": {
      "text/plain": "   DAY  STRATA  DESTMARK  Q5TIMESFLOWN  Q6LONGUSE  Q7ART  Q7FOOD  Q7STORE  \\\n0    2       3         4             2          1      6       6        3   \n1    2       3         4             1          1      6       3        4   \n2    2       3         4             1          3      3       6        4   \n3    2       3         4             2          0      0       4        4   \n4    2       3         4             3          2      0       0        0   \n\n   Q7SIGN  Q7WALKWAY  ...  Q10Safe  Q13GETRATE  Q14FIND   Q14PASSTHRU  \\\n0       4          4  ...        3           5         4            3   \n1       4          4  ...        4           4         4            3   \n2       4          6  ...        4           4         5            3   \n3       4          5  ...        4           0         0            0   \n4       0          0  ...        3           3         3            3   \n\n   NETPRO    Q20Age  Q22Income  clusters  clusters_2  clusters_3  \n0         5       6          0         2           2           1  \n1         7       4          2         2           2           1  \n2         7       5          5         2           2           1  \n3         8       2          3         0           0           0  \n4         8       2          2         0           0           0  \n\n[5 rows x 37 columns]",
      "text/html": "<div>\n<style scoped>\n    .dataframe tbody tr th:only-of-type {\n        vertical-align: middle;\n    }\n\n    .dataframe tbody tr th {\n        vertical-align: top;\n    }\n\n    .dataframe thead th {\n        text-align: right;\n    }\n</style>\n<table border=\"1\" class=\"dataframe\">\n  <thead>\n    <tr style=\"text-align: right;\">\n      <th></th>\n      <th>DAY</th>\n      <th>STRATA</th>\n      <th>DESTMARK</th>\n      <th>Q5TIMESFLOWN</th>\n      <th>Q6LONGUSE</th>\n      <th>Q7ART</th>\n      <th>Q7FOOD</th>\n      <th>Q7STORE</th>\n      <th>Q7SIGN</th>\n      <th>Q7WALKWAY</th>\n      <th>...</th>\n      <th>Q10Safe</th>\n      <th>Q13GETRATE</th>\n      <th>Q14FIND</th>\n      <th>Q14PASSTHRU</th>\n      <th>NETPRO</th>\n      <th>Q20Age</th>\n      <th>Q22Income</th>\n      <th>clusters</th>\n      <th>clusters_2</th>\n      <th>clusters_3</th>\n    </tr>\n  </thead>\n  <tbody>\n    <tr>\n      <th>0</th>\n      <td>2</td>\n      <td>3</td>\n      <td>4</td>\n      <td>2</td>\n      <td>1</td>\n      <td>6</td>\n      <td>6</td>\n      <td>3</td>\n      <td>4</td>\n      <td>4</td>\n      <td>...</td>\n      <td>3</td>\n      <td>5</td>\n      <td>4</td>\n      <td>3</td>\n      <td>5</td>\n      <td>6</td>\n      <td>0</td>\n      <td>2</td>\n      <td>2</td>\n      <td>1</td>\n    </tr>\n    <tr>\n      <th>1</th>\n      <td>2</td>\n      <td>3</td>\n      <td>4</td>\n      <td>1</td>\n      <td>1</td>\n      <td>6</td>\n      <td>3</td>\n      <td>4</td>\n      <td>4</td>\n      <td>4</td>\n      <td>...</td>\n      <td>4</td>\n      <td>4</td>\n      <td>4</td>\n      <td>3</td>\n      <td>7</td>\n      <td>4</td>\n      <td>2</td>\n      <td>2</td>\n      <td>2</td>\n      <td>1</td>\n    </tr>\n    <tr>\n      <th>2</th>\n      <td>2</td>\n      <td>3</td>\n      <td>4</td>\n      <td>1</td>\n      <td>3</td>\n      <td>3</td>\n      <td>6</td>\n      <td>4</td>\n      <td>4</td>\n      <td>6</td>\n      <td>...</td>\n      <td>4</td>\n      <td>4</td>\n      <td>5</td>\n      <td>3</td>\n      <td>7</td>\n      <td>5</td>\n      <td>5</td>\n      <td>2</td>\n      <td>2</td>\n      <td>1</td>\n    </tr>\n    <tr>\n      <th>3</th>\n      <td>2</td>\n      <td>3</td>\n      <td>4</td>\n      <td>2</td>\n      <td>0</td>\n      <td>0</td>\n      <td>4</td>\n      <td>4</td>\n      <td>4</td>\n      <td>5</td>\n      <td>...</td>\n      <td>4</td>\n      <td>0</td>\n      <td>0</td>\n      <td>0</td>\n      <td>8</td>\n      <td>2</td>\n      <td>3</td>\n      <td>0</td>\n      <td>0</td>\n      <td>0</td>\n    </tr>\n    <tr>\n      <th>4</th>\n      <td>2</td>\n      <td>3</td>\n      <td>4</td>\n      <td>3</td>\n      <td>2</td>\n      <td>0</td>\n      <td>0</td>\n      <td>0</td>\n      <td>0</td>\n      <td>0</td>\n      <td>...</td>\n      <td>3</td>\n      <td>3</td>\n      <td>3</td>\n      <td>3</td>\n      <td>8</td>\n      <td>2</td>\n      <td>2</td>\n      <td>0</td>\n      <td>0</td>\n      <td>0</td>\n    </tr>\n  </tbody>\n</table>\n<p>5 rows × 37 columns</p>\n</div>"
     },
     "execution_count": 189,
     "metadata": {},
     "output_type": "execute_result"
    }
   ],
   "source": [
    "data_2018_quantitative['clusters_3'] = kmeans_model.labels_\n",
    "\n",
    "data_2018_quantitative.head()"
   ],
   "metadata": {
    "collapsed": false,
    "pycharm": {
     "name": "#%%\n"
    }
   }
  },
  {
   "cell_type": "code",
   "execution_count": 190,
   "outputs": [
    {
     "data": {
      "text/plain": "              DAY      STRATA    DESTMARK  Q5TIMESFLOWN   Q6LONGUSE  \\\ncount  560.000000  560.000000  560.000000    560.000000  560.000000   \nmean     4.248214    2.192857    3.308929      2.408929    2.560714   \nstd      1.631805    0.734008    1.037366      1.519907    1.365257   \nmin      1.000000    1.000000    1.000000      0.000000    0.000000   \n25%      3.000000    2.000000    2.000000      1.000000    1.000000   \n50%      4.000000    2.000000    4.000000      2.000000    3.000000   \n75%      5.000000    3.000000    4.000000      3.000000    4.000000   \nmax      7.000000    3.000000    4.000000      6.000000    4.000000   \n\n            Q7ART      Q7FOOD     Q7STORE      Q7SIGN   Q7WALKWAY  ...  \\\ncount  560.000000  560.000000  560.000000  560.000000  560.000000  ...   \nmean     3.060714    2.787500    2.685714    2.916071    3.025000  ...   \nstd      1.743855    1.505929    1.538234    1.543093    1.553834  ...   \nmin      0.000000    0.000000    0.000000    0.000000    0.000000  ...   \n25%      2.000000    2.000000    2.000000    2.000000    3.000000  ...   \n50%      3.000000    3.000000    3.000000    3.000000    3.000000  ...   \n75%      4.000000    4.000000    4.000000    4.000000    4.000000  ...   \nmax      6.000000    6.000000    6.000000    6.000000    6.000000  ...   \n\n          Q10Safe  Q13GETRATE    Q14FIND   Q14PASSTHRU    NETPRO    \\\ncount  560.000000  560.000000  560.000000   560.000000  560.000000   \nmean     3.616071    2.669643    3.282143     2.821429    7.464286   \nstd      1.427092    1.966574    1.766019     1.909464    2.579431   \nmin      0.000000    0.000000    0.000000     0.000000    0.000000   \n25%      3.000000    0.000000    3.000000     1.000000    6.000000   \n50%      4.000000    3.000000    4.000000     3.000000    8.000000   \n75%      5.000000    4.000000    5.000000     4.000000   10.000000   \nmax      5.000000    6.000000    6.000000     6.000000   11.000000   \n\n           Q20Age   Q22Income    clusters  clusters_2  clusters_3  \ncount  560.000000  560.000000  560.000000  560.000000       560.0  \nmean     4.003571    1.921429    0.698214    0.698214         0.0  \nstd      2.146676    1.600840    0.459443    0.459443         0.0  \nmin      0.000000    0.000000    0.000000    0.000000         0.0  \n25%      3.000000    0.000000    0.000000    0.000000         0.0  \n50%      4.000000    2.000000    1.000000    1.000000         0.0  \n75%      6.000000    4.000000    1.000000    1.000000         0.0  \nmax      7.000000    5.000000    1.000000    1.000000         0.0  \n\n[8 rows x 37 columns]",
      "text/html": "<div>\n<style scoped>\n    .dataframe tbody tr th:only-of-type {\n        vertical-align: middle;\n    }\n\n    .dataframe tbody tr th {\n        vertical-align: top;\n    }\n\n    .dataframe thead th {\n        text-align: right;\n    }\n</style>\n<table border=\"1\" class=\"dataframe\">\n  <thead>\n    <tr style=\"text-align: right;\">\n      <th></th>\n      <th>DAY</th>\n      <th>STRATA</th>\n      <th>DESTMARK</th>\n      <th>Q5TIMESFLOWN</th>\n      <th>Q6LONGUSE</th>\n      <th>Q7ART</th>\n      <th>Q7FOOD</th>\n      <th>Q7STORE</th>\n      <th>Q7SIGN</th>\n      <th>Q7WALKWAY</th>\n      <th>...</th>\n      <th>Q10Safe</th>\n      <th>Q13GETRATE</th>\n      <th>Q14FIND</th>\n      <th>Q14PASSTHRU</th>\n      <th>NETPRO</th>\n      <th>Q20Age</th>\n      <th>Q22Income</th>\n      <th>clusters</th>\n      <th>clusters_2</th>\n      <th>clusters_3</th>\n    </tr>\n  </thead>\n  <tbody>\n    <tr>\n      <th>count</th>\n      <td>560.000000</td>\n      <td>560.000000</td>\n      <td>560.000000</td>\n      <td>560.000000</td>\n      <td>560.000000</td>\n      <td>560.000000</td>\n      <td>560.000000</td>\n      <td>560.000000</td>\n      <td>560.000000</td>\n      <td>560.000000</td>\n      <td>...</td>\n      <td>560.000000</td>\n      <td>560.000000</td>\n      <td>560.000000</td>\n      <td>560.000000</td>\n      <td>560.000000</td>\n      <td>560.000000</td>\n      <td>560.000000</td>\n      <td>560.000000</td>\n      <td>560.000000</td>\n      <td>560.0</td>\n    </tr>\n    <tr>\n      <th>mean</th>\n      <td>4.248214</td>\n      <td>2.192857</td>\n      <td>3.308929</td>\n      <td>2.408929</td>\n      <td>2.560714</td>\n      <td>3.060714</td>\n      <td>2.787500</td>\n      <td>2.685714</td>\n      <td>2.916071</td>\n      <td>3.025000</td>\n      <td>...</td>\n      <td>3.616071</td>\n      <td>2.669643</td>\n      <td>3.282143</td>\n      <td>2.821429</td>\n      <td>7.464286</td>\n      <td>4.003571</td>\n      <td>1.921429</td>\n      <td>0.698214</td>\n      <td>0.698214</td>\n      <td>0.0</td>\n    </tr>\n    <tr>\n      <th>std</th>\n      <td>1.631805</td>\n      <td>0.734008</td>\n      <td>1.037366</td>\n      <td>1.519907</td>\n      <td>1.365257</td>\n      <td>1.743855</td>\n      <td>1.505929</td>\n      <td>1.538234</td>\n      <td>1.543093</td>\n      <td>1.553834</td>\n      <td>...</td>\n      <td>1.427092</td>\n      <td>1.966574</td>\n      <td>1.766019</td>\n      <td>1.909464</td>\n      <td>2.579431</td>\n      <td>2.146676</td>\n      <td>1.600840</td>\n      <td>0.459443</td>\n      <td>0.459443</td>\n      <td>0.0</td>\n    </tr>\n    <tr>\n      <th>min</th>\n      <td>1.000000</td>\n      <td>1.000000</td>\n      <td>1.000000</td>\n      <td>0.000000</td>\n      <td>0.000000</td>\n      <td>0.000000</td>\n      <td>0.000000</td>\n      <td>0.000000</td>\n      <td>0.000000</td>\n      <td>0.000000</td>\n      <td>...</td>\n      <td>0.000000</td>\n      <td>0.000000</td>\n      <td>0.000000</td>\n      <td>0.000000</td>\n      <td>0.000000</td>\n      <td>0.000000</td>\n      <td>0.000000</td>\n      <td>0.000000</td>\n      <td>0.000000</td>\n      <td>0.0</td>\n    </tr>\n    <tr>\n      <th>25%</th>\n      <td>3.000000</td>\n      <td>2.000000</td>\n      <td>2.000000</td>\n      <td>1.000000</td>\n      <td>1.000000</td>\n      <td>2.000000</td>\n      <td>2.000000</td>\n      <td>2.000000</td>\n      <td>2.000000</td>\n      <td>3.000000</td>\n      <td>...</td>\n      <td>3.000000</td>\n      <td>0.000000</td>\n      <td>3.000000</td>\n      <td>1.000000</td>\n      <td>6.000000</td>\n      <td>3.000000</td>\n      <td>0.000000</td>\n      <td>0.000000</td>\n      <td>0.000000</td>\n      <td>0.0</td>\n    </tr>\n    <tr>\n      <th>50%</th>\n      <td>4.000000</td>\n      <td>2.000000</td>\n      <td>4.000000</td>\n      <td>2.000000</td>\n      <td>3.000000</td>\n      <td>3.000000</td>\n      <td>3.000000</td>\n      <td>3.000000</td>\n      <td>3.000000</td>\n      <td>3.000000</td>\n      <td>...</td>\n      <td>4.000000</td>\n      <td>3.000000</td>\n      <td>4.000000</td>\n      <td>3.000000</td>\n      <td>8.000000</td>\n      <td>4.000000</td>\n      <td>2.000000</td>\n      <td>1.000000</td>\n      <td>1.000000</td>\n      <td>0.0</td>\n    </tr>\n    <tr>\n      <th>75%</th>\n      <td>5.000000</td>\n      <td>3.000000</td>\n      <td>4.000000</td>\n      <td>3.000000</td>\n      <td>4.000000</td>\n      <td>4.000000</td>\n      <td>4.000000</td>\n      <td>4.000000</td>\n      <td>4.000000</td>\n      <td>4.000000</td>\n      <td>...</td>\n      <td>5.000000</td>\n      <td>4.000000</td>\n      <td>5.000000</td>\n      <td>4.000000</td>\n      <td>10.000000</td>\n      <td>6.000000</td>\n      <td>4.000000</td>\n      <td>1.000000</td>\n      <td>1.000000</td>\n      <td>0.0</td>\n    </tr>\n    <tr>\n      <th>max</th>\n      <td>7.000000</td>\n      <td>3.000000</td>\n      <td>4.000000</td>\n      <td>6.000000</td>\n      <td>4.000000</td>\n      <td>6.000000</td>\n      <td>6.000000</td>\n      <td>6.000000</td>\n      <td>6.000000</td>\n      <td>6.000000</td>\n      <td>...</td>\n      <td>5.000000</td>\n      <td>6.000000</td>\n      <td>6.000000</td>\n      <td>6.000000</td>\n      <td>11.000000</td>\n      <td>7.000000</td>\n      <td>5.000000</td>\n      <td>1.000000</td>\n      <td>1.000000</td>\n      <td>0.0</td>\n    </tr>\n  </tbody>\n</table>\n<p>8 rows × 37 columns</p>\n</div>"
     },
     "execution_count": 190,
     "metadata": {},
     "output_type": "execute_result"
    }
   ],
   "source": [
    "data_2018_quantitative.loc[data_2018_quantitative['clusters_3'] == 0].describe()\n",
    "# Lower ratigs"
   ],
   "metadata": {
    "collapsed": false,
    "pycharm": {
     "name": "#%%\n"
    }
   }
  },
  {
   "cell_type": "code",
   "execution_count": 191,
   "outputs": [
    {
     "data": {
      "text/plain": "               DAY       STRATA     DESTMARK  Q5TIMESFLOWN    Q6LONGUSE  \\\ncount  2249.000000  2249.000000  2249.000000   2249.000000  2249.000000   \nmean      4.097377     2.136950     3.200089      2.202312     2.565585   \nstd       1.706914     0.791924     1.075024      1.302364     1.285454   \nmin       1.000000     1.000000     1.000000      0.000000     0.000000   \n25%       3.000000     1.000000     2.000000      1.000000     1.000000   \n50%       4.000000     2.000000     4.000000      2.000000     2.000000   \n75%       5.000000     3.000000     4.000000      3.000000     4.000000   \nmax       7.000000     3.000000     4.000000      6.000000     4.000000   \n\n             Q7ART       Q7FOOD      Q7STORE       Q7SIGN    Q7WALKWAY  ...  \\\ncount  2249.000000  2249.000000  2249.000000  2249.000000  2249.000000  ...   \nmean      4.433081     4.013339     4.012450     4.188528     4.350378  ...   \nstd       1.191268     1.210423     1.264357     0.880306     0.893308  ...   \nmin       0.000000     0.000000     0.000000     0.000000     0.000000  ...   \n25%       4.000000     3.000000     3.000000     4.000000     4.000000  ...   \n50%       4.000000     4.000000     4.000000     4.000000     4.000000  ...   \n75%       5.000000     5.000000     5.000000     5.000000     5.000000  ...   \nmax       6.000000     6.000000     6.000000     6.000000     6.000000  ...   \n\n           Q10Safe   Q13GETRATE     Q14FIND   Q14PASSTHRU     NETPRO    \\\ncount  2249.000000  2249.000000  2249.000000  2249.000000  2249.000000   \nmean      4.409071     3.916852     4.418853     4.180525     8.427301   \nstd       0.834545     1.570900     1.049369     1.399146     1.814626   \nmin       0.000000     0.000000     0.000000     0.000000     0.000000   \n25%       4.000000     3.000000     4.000000     4.000000     8.000000   \n50%       5.000000     4.000000     5.000000     5.000000     9.000000   \n75%       5.000000     5.000000     5.000000     5.000000    10.000000   \nmax       5.000000     6.000000     6.000000     6.000000    11.000000   \n\n            Q20Age    Q22Income     clusters   clusters_2  clusters_3  \ncount  2249.000000  2249.000000  2249.000000  2249.000000      2249.0  \nmean      4.056025     2.078257     1.730547     1.730547         1.0  \nstd       1.787280     1.464622     0.443774     0.443774         0.0  \nmin       0.000000     0.000000     1.000000     1.000000         1.0  \n25%       3.000000     1.000000     1.000000     1.000000         1.0  \n50%       4.000000     2.000000     2.000000     2.000000         1.0  \n75%       5.000000     3.000000     2.000000     2.000000         1.0  \nmax       7.000000     5.000000     2.000000     2.000000         1.0  \n\n[8 rows x 37 columns]",
      "text/html": "<div>\n<style scoped>\n    .dataframe tbody tr th:only-of-type {\n        vertical-align: middle;\n    }\n\n    .dataframe tbody tr th {\n        vertical-align: top;\n    }\n\n    .dataframe thead th {\n        text-align: right;\n    }\n</style>\n<table border=\"1\" class=\"dataframe\">\n  <thead>\n    <tr style=\"text-align: right;\">\n      <th></th>\n      <th>DAY</th>\n      <th>STRATA</th>\n      <th>DESTMARK</th>\n      <th>Q5TIMESFLOWN</th>\n      <th>Q6LONGUSE</th>\n      <th>Q7ART</th>\n      <th>Q7FOOD</th>\n      <th>Q7STORE</th>\n      <th>Q7SIGN</th>\n      <th>Q7WALKWAY</th>\n      <th>...</th>\n      <th>Q10Safe</th>\n      <th>Q13GETRATE</th>\n      <th>Q14FIND</th>\n      <th>Q14PASSTHRU</th>\n      <th>NETPRO</th>\n      <th>Q20Age</th>\n      <th>Q22Income</th>\n      <th>clusters</th>\n      <th>clusters_2</th>\n      <th>clusters_3</th>\n    </tr>\n  </thead>\n  <tbody>\n    <tr>\n      <th>count</th>\n      <td>2249.000000</td>\n      <td>2249.000000</td>\n      <td>2249.000000</td>\n      <td>2249.000000</td>\n      <td>2249.000000</td>\n      <td>2249.000000</td>\n      <td>2249.000000</td>\n      <td>2249.000000</td>\n      <td>2249.000000</td>\n      <td>2249.000000</td>\n      <td>...</td>\n      <td>2249.000000</td>\n      <td>2249.000000</td>\n      <td>2249.000000</td>\n      <td>2249.000000</td>\n      <td>2249.000000</td>\n      <td>2249.000000</td>\n      <td>2249.000000</td>\n      <td>2249.000000</td>\n      <td>2249.000000</td>\n      <td>2249.0</td>\n    </tr>\n    <tr>\n      <th>mean</th>\n      <td>4.097377</td>\n      <td>2.136950</td>\n      <td>3.200089</td>\n      <td>2.202312</td>\n      <td>2.565585</td>\n      <td>4.433081</td>\n      <td>4.013339</td>\n      <td>4.012450</td>\n      <td>4.188528</td>\n      <td>4.350378</td>\n      <td>...</td>\n      <td>4.409071</td>\n      <td>3.916852</td>\n      <td>4.418853</td>\n      <td>4.180525</td>\n      <td>8.427301</td>\n      <td>4.056025</td>\n      <td>2.078257</td>\n      <td>1.730547</td>\n      <td>1.730547</td>\n      <td>1.0</td>\n    </tr>\n    <tr>\n      <th>std</th>\n      <td>1.706914</td>\n      <td>0.791924</td>\n      <td>1.075024</td>\n      <td>1.302364</td>\n      <td>1.285454</td>\n      <td>1.191268</td>\n      <td>1.210423</td>\n      <td>1.264357</td>\n      <td>0.880306</td>\n      <td>0.893308</td>\n      <td>...</td>\n      <td>0.834545</td>\n      <td>1.570900</td>\n      <td>1.049369</td>\n      <td>1.399146</td>\n      <td>1.814626</td>\n      <td>1.787280</td>\n      <td>1.464622</td>\n      <td>0.443774</td>\n      <td>0.443774</td>\n      <td>0.0</td>\n    </tr>\n    <tr>\n      <th>min</th>\n      <td>1.000000</td>\n      <td>1.000000</td>\n      <td>1.000000</td>\n      <td>0.000000</td>\n      <td>0.000000</td>\n      <td>0.000000</td>\n      <td>0.000000</td>\n      <td>0.000000</td>\n      <td>0.000000</td>\n      <td>0.000000</td>\n      <td>...</td>\n      <td>0.000000</td>\n      <td>0.000000</td>\n      <td>0.000000</td>\n      <td>0.000000</td>\n      <td>0.000000</td>\n      <td>0.000000</td>\n      <td>0.000000</td>\n      <td>1.000000</td>\n      <td>1.000000</td>\n      <td>1.0</td>\n    </tr>\n    <tr>\n      <th>25%</th>\n      <td>3.000000</td>\n      <td>1.000000</td>\n      <td>2.000000</td>\n      <td>1.000000</td>\n      <td>1.000000</td>\n      <td>4.000000</td>\n      <td>3.000000</td>\n      <td>3.000000</td>\n      <td>4.000000</td>\n      <td>4.000000</td>\n      <td>...</td>\n      <td>4.000000</td>\n      <td>3.000000</td>\n      <td>4.000000</td>\n      <td>4.000000</td>\n      <td>8.000000</td>\n      <td>3.000000</td>\n      <td>1.000000</td>\n      <td>1.000000</td>\n      <td>1.000000</td>\n      <td>1.0</td>\n    </tr>\n    <tr>\n      <th>50%</th>\n      <td>4.000000</td>\n      <td>2.000000</td>\n      <td>4.000000</td>\n      <td>2.000000</td>\n      <td>2.000000</td>\n      <td>4.000000</td>\n      <td>4.000000</td>\n      <td>4.000000</td>\n      <td>4.000000</td>\n      <td>4.000000</td>\n      <td>...</td>\n      <td>5.000000</td>\n      <td>4.000000</td>\n      <td>5.000000</td>\n      <td>5.000000</td>\n      <td>9.000000</td>\n      <td>4.000000</td>\n      <td>2.000000</td>\n      <td>2.000000</td>\n      <td>2.000000</td>\n      <td>1.0</td>\n    </tr>\n    <tr>\n      <th>75%</th>\n      <td>5.000000</td>\n      <td>3.000000</td>\n      <td>4.000000</td>\n      <td>3.000000</td>\n      <td>4.000000</td>\n      <td>5.000000</td>\n      <td>5.000000</td>\n      <td>5.000000</td>\n      <td>5.000000</td>\n      <td>5.000000</td>\n      <td>...</td>\n      <td>5.000000</td>\n      <td>5.000000</td>\n      <td>5.000000</td>\n      <td>5.000000</td>\n      <td>10.000000</td>\n      <td>5.000000</td>\n      <td>3.000000</td>\n      <td>2.000000</td>\n      <td>2.000000</td>\n      <td>1.0</td>\n    </tr>\n    <tr>\n      <th>max</th>\n      <td>7.000000</td>\n      <td>3.000000</td>\n      <td>4.000000</td>\n      <td>6.000000</td>\n      <td>4.000000</td>\n      <td>6.000000</td>\n      <td>6.000000</td>\n      <td>6.000000</td>\n      <td>6.000000</td>\n      <td>6.000000</td>\n      <td>...</td>\n      <td>5.000000</td>\n      <td>6.000000</td>\n      <td>6.000000</td>\n      <td>6.000000</td>\n      <td>11.000000</td>\n      <td>7.000000</td>\n      <td>5.000000</td>\n      <td>2.000000</td>\n      <td>2.000000</td>\n      <td>1.0</td>\n    </tr>\n  </tbody>\n</table>\n<p>8 rows × 37 columns</p>\n</div>"
     },
     "execution_count": 191,
     "metadata": {},
     "output_type": "execute_result"
    }
   ],
   "source": [
    "data_2018_quantitative.loc[data_2018_quantitative['clusters_3'] == 1].describe()\n",
    "# Higher ratings"
   ],
   "metadata": {
    "collapsed": false,
    "pycharm": {
     "name": "#%%\n"
    }
   }
  },
  {
   "cell_type": "code",
   "execution_count": null,
   "outputs": [],
   "source": [],
   "metadata": {
    "collapsed": false,
    "pycharm": {
     "name": "#%%\n"
    }
   }
  }
 ],
 "metadata": {
  "kernelspec": {
   "display_name": "Python 3",
   "language": "python",
   "name": "python3"
  },
  "language_info": {
   "codemirror_mode": {
    "name": "ipython",
    "version": 3
   },
   "file_extension": ".py",
   "mimetype": "text/x-python",
   "name": "python",
   "nbconvert_exporter": "python",
   "pygments_lexer": "ipython3",
   "version": "3.8.7"
  }
 },
 "nbformat": 4,
 "nbformat_minor": 1
}